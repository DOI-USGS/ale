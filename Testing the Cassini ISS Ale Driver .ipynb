{
 "cells": [
  {
   "cell_type": "code",
   "execution_count": 1,
   "metadata": {},
   "outputs": [],
   "source": [
    "import ale\n",
    "\n",
    "from knoten import csm\n",
    "from knoten import csmapi\n",
    "from ale.drivers.cassini_driver import CassiniISS\n",
    "from ale.drivers import JsonEncoder\n",
    "import matplotlib.pyplot as plt\n",
    "import ctypes\n",
    "\n",
    "import shapely.wkt\n",
    "\n",
    "lib = ctypes.CDLL('/home/kberry/anaconda3/envs/ALE/lib/libusgscsm.so')"
   ]
  },
  {
   "cell_type": "code",
   "execution_count": 27,
   "metadata": {},
   "outputs": [
    {
     "ename": "SpiceyError",
     "evalue": "\n================================================================================\n\nToolkit version: N0066\n\nSPICE(NOFRAMECONNECT) --\n\nAt epoch 2.7176129615881E+08 TDB (2008 AUG 11 21:14:56.158 TDB), there is insufficient information available to transform from reference frame -82360 (CASSINI_ISS_NAC) to reference frame 10040 (IAU_ENCELADUS). Frame CASSINI_ISS_NAC could be transformed to frame -82000 (CASSINI_SC_COORD). The latter is a CK frame; a CK\n\npxform_c --> PXFORM --> REFCHG\n\n================================================================================",
     "output_type": "error",
     "traceback": [
      "\u001b[0;31m---------------------------------------------------------------------------\u001b[0m",
      "\u001b[0;31mSpiceyError\u001b[0m                               Traceback (most recent call last)",
      "\u001b[0;32m<ipython-input-27-99270e0bcd9e>\u001b[0m in \u001b[0;36m<module>\u001b[0;34m\u001b[0m\n\u001b[1;32m      8\u001b[0m   \u001b[0;31m#  print(\"Corrected Starting Ephem 2 UTC: \", spice.et2utc(d.starting_ephemeris_time, \"ISOC\", 100))\u001b[0m\u001b[0;34m\u001b[0m\u001b[0;34m\u001b[0m\u001b[0;34m\u001b[0m\u001b[0m\n\u001b[1;32m      9\u001b[0m   \u001b[0;31m#  print(\"Corrected Start Time from label: \", [\"label\"][\"CORRECTED_START_TIME\"])\u001b[0m\u001b[0;34m\u001b[0m\u001b[0;34m\u001b[0m\u001b[0;34m\u001b[0m\u001b[0m\n\u001b[0;32m---> 10\u001b[0;31m     \u001b[0maledict\u001b[0m \u001b[0;34m=\u001b[0m \u001b[0md\u001b[0m\u001b[0;34m.\u001b[0m\u001b[0mto_dict\u001b[0m\u001b[0;34m(\u001b[0m\u001b[0;34m)\u001b[0m \u001b[0;31m# dump this to a json file -> this is the ISD\u001b[0m\u001b[0;34m\u001b[0m\u001b[0;34m\u001b[0m\u001b[0m\n\u001b[0m\u001b[1;32m     11\u001b[0m     \u001b[0;31m# goal = get an initial dict working for a PR\u001b[0m\u001b[0;34m\u001b[0m\u001b[0;34m\u001b[0m\u001b[0;34m\u001b[0m\u001b[0m\n\u001b[1;32m     12\u001b[0m     \u001b[0;31m# check out the json encoder driver\u001b[0m\u001b[0;34m\u001b[0m\u001b[0;34m\u001b[0m\u001b[0;34m\u001b[0m\u001b[0m\n",
      "\u001b[0;32m/scratch/localhome/kberry/dev/ale/ale/ale/drivers/base.py\u001b[0m in \u001b[0;36mto_dict\u001b[0;34m(self)\u001b[0m\n\u001b[1;32m    266\u001b[0m         \"\"\"\n\u001b[1;32m    267\u001b[0m         \u001b[0mkeys\u001b[0m \u001b[0;34m=\u001b[0m \u001b[0mset\u001b[0m\u001b[0;34m(\u001b[0m\u001b[0;34m)\u001b[0m\u001b[0;34m\u001b[0m\u001b[0;34m\u001b[0m\u001b[0m\n\u001b[0;32m--> 268\u001b[0;31m         \u001b[0;32mreturn\u001b[0m \u001b[0;34m{\u001b[0m\u001b[0mp\u001b[0m\u001b[0;34m:\u001b[0m\u001b[0mgetattr\u001b[0m\u001b[0;34m(\u001b[0m\u001b[0mself\u001b[0m\u001b[0;34m,\u001b[0m \u001b[0mp\u001b[0m\u001b[0;34m)\u001b[0m \u001b[0;32mfor\u001b[0m \u001b[0mp\u001b[0m \u001b[0;32min\u001b[0m \u001b[0mdir\u001b[0m\u001b[0;34m(\u001b[0m\u001b[0mself\u001b[0m\u001b[0;34m)\u001b[0m \u001b[0;32mif\u001b[0m \u001b[0mp\u001b[0m\u001b[0;34m[\u001b[0m\u001b[0;36m0\u001b[0m\u001b[0;34m]\u001b[0m \u001b[0;34m!=\u001b[0m \u001b[0;34m\"_\"\u001b[0m \u001b[0;32mand\u001b[0m \u001b[0misinstance\u001b[0m\u001b[0;34m(\u001b[0m\u001b[0mgetattr\u001b[0m\u001b[0;34m(\u001b[0m\u001b[0mtype\u001b[0m\u001b[0;34m(\u001b[0m\u001b[0mself\u001b[0m\u001b[0;34m)\u001b[0m\u001b[0;34m,\u001b[0m \u001b[0mp\u001b[0m\u001b[0;34m)\u001b[0m\u001b[0;34m,\u001b[0m \u001b[0mproperty\u001b[0m\u001b[0;34m)\u001b[0m\u001b[0;34m}\u001b[0m\u001b[0;34m\u001b[0m\u001b[0;34m\u001b[0m\u001b[0m\n\u001b[0m\u001b[1;32m    269\u001b[0m \u001b[0;34m\u001b[0m\u001b[0m\n\u001b[1;32m    270\u001b[0m \u001b[0;34m\u001b[0m\u001b[0m\n",
      "\u001b[0;32m/scratch/localhome/kberry/dev/ale/ale/ale/drivers/base.py\u001b[0m in \u001b[0;36m<dictcomp>\u001b[0;34m(.0)\u001b[0m\n\u001b[1;32m    266\u001b[0m         \"\"\"\n\u001b[1;32m    267\u001b[0m         \u001b[0mkeys\u001b[0m \u001b[0;34m=\u001b[0m \u001b[0mset\u001b[0m\u001b[0;34m(\u001b[0m\u001b[0;34m)\u001b[0m\u001b[0;34m\u001b[0m\u001b[0;34m\u001b[0m\u001b[0m\n\u001b[0;32m--> 268\u001b[0;31m         \u001b[0;32mreturn\u001b[0m \u001b[0;34m{\u001b[0m\u001b[0mp\u001b[0m\u001b[0;34m:\u001b[0m\u001b[0mgetattr\u001b[0m\u001b[0;34m(\u001b[0m\u001b[0mself\u001b[0m\u001b[0;34m,\u001b[0m \u001b[0mp\u001b[0m\u001b[0;34m)\u001b[0m \u001b[0;32mfor\u001b[0m \u001b[0mp\u001b[0m \u001b[0;32min\u001b[0m \u001b[0mdir\u001b[0m\u001b[0;34m(\u001b[0m\u001b[0mself\u001b[0m\u001b[0;34m)\u001b[0m \u001b[0;32mif\u001b[0m \u001b[0mp\u001b[0m\u001b[0;34m[\u001b[0m\u001b[0;36m0\u001b[0m\u001b[0;34m]\u001b[0m \u001b[0;34m!=\u001b[0m \u001b[0;34m\"_\"\u001b[0m \u001b[0;32mand\u001b[0m \u001b[0misinstance\u001b[0m\u001b[0;34m(\u001b[0m\u001b[0mgetattr\u001b[0m\u001b[0;34m(\u001b[0m\u001b[0mtype\u001b[0m\u001b[0;34m(\u001b[0m\u001b[0mself\u001b[0m\u001b[0;34m)\u001b[0m\u001b[0;34m,\u001b[0m \u001b[0mp\u001b[0m\u001b[0;34m)\u001b[0m\u001b[0;34m,\u001b[0m \u001b[0mproperty\u001b[0m\u001b[0;34m)\u001b[0m\u001b[0;34m}\u001b[0m\u001b[0;34m\u001b[0m\u001b[0;34m\u001b[0m\u001b[0m\n\u001b[0m\u001b[1;32m    269\u001b[0m \u001b[0;34m\u001b[0m\u001b[0m\n\u001b[1;32m    270\u001b[0m \u001b[0;34m\u001b[0m\u001b[0m\n",
      "\u001b[0;32m/scratch/localhome/kberry/dev/ale/ale/ale/drivers/base.py\u001b[0m in \u001b[0;36msensor_orientation\u001b[0;34m(self)\u001b[0m\n\u001b[1;32m    357\u001b[0m     \u001b[0;32mdef\u001b[0m \u001b[0msensor_orientation\u001b[0m\u001b[0;34m(\u001b[0m\u001b[0mself\u001b[0m\u001b[0;34m)\u001b[0m\u001b[0;34m:\u001b[0m\u001b[0;34m\u001b[0m\u001b[0;34m\u001b[0m\u001b[0m\n\u001b[1;32m    358\u001b[0m         return {\n\u001b[0;32m--> 359\u001b[0;31m             \u001b[0;34m\"quaternions\"\u001b[0m \u001b[0;34m:\u001b[0m \u001b[0mself\u001b[0m\u001b[0;34m.\u001b[0m\u001b[0m_sensor_orientation\u001b[0m\u001b[0;34m\u001b[0m\u001b[0;34m\u001b[0m\u001b[0m\n\u001b[0m\u001b[1;32m    360\u001b[0m         }\n\u001b[1;32m    361\u001b[0m \u001b[0;34m\u001b[0m\u001b[0m\n",
      "\u001b[0;32m/scratch/localhome/kberry/dev/ale/ale/ale/drivers/base.py\u001b[0m in \u001b[0;36m_sensor_orientation\u001b[0;34m(self)\u001b[0m\n\u001b[1;32m    751\u001b[0m                 camera2bodyfixed = spice.pxform(self.instrument_id,\n\u001b[1;32m    752\u001b[0m                                                 \u001b[0mself\u001b[0m\u001b[0;34m.\u001b[0m\u001b[0mreference_frame\u001b[0m\u001b[0;34m,\u001b[0m\u001b[0;34m\u001b[0m\u001b[0;34m\u001b[0m\u001b[0m\n\u001b[0;32m--> 753\u001b[0;31m                                                 current_et)\n\u001b[0m\u001b[1;32m    754\u001b[0m                 \u001b[0mq\u001b[0m \u001b[0;34m=\u001b[0m \u001b[0mspice\u001b[0m\u001b[0;34m.\u001b[0m\u001b[0mm2q\u001b[0m\u001b[0;34m(\u001b[0m\u001b[0mcamera2bodyfixed\u001b[0m\u001b[0;34m)\u001b[0m\u001b[0;34m\u001b[0m\u001b[0;34m\u001b[0m\u001b[0m\n\u001b[1;32m    755\u001b[0m                 \u001b[0mqua\u001b[0m\u001b[0;34m[\u001b[0m\u001b[0mi\u001b[0m\u001b[0;34m,\u001b[0m\u001b[0;34m:\u001b[0m\u001b[0;36m3\u001b[0m\u001b[0;34m]\u001b[0m \u001b[0;34m=\u001b[0m \u001b[0mq\u001b[0m\u001b[0;34m[\u001b[0m\u001b[0;36m1\u001b[0m\u001b[0;34m:\u001b[0m\u001b[0;34m]\u001b[0m\u001b[0;34m\u001b[0m\u001b[0;34m\u001b[0m\u001b[0m\n",
      "\u001b[0;32m~/anaconda3/envs/ALE/lib/python3.7/site-packages/spiceypy/spiceypy.py\u001b[0m in \u001b[0;36mwith_errcheck\u001b[0;34m(*args, **kwargs)\u001b[0m\n\u001b[1;32m     76\u001b[0m         \u001b[0;32mtry\u001b[0m\u001b[0;34m:\u001b[0m\u001b[0;34m\u001b[0m\u001b[0;34m\u001b[0m\u001b[0m\n\u001b[1;32m     77\u001b[0m             \u001b[0mres\u001b[0m \u001b[0;34m=\u001b[0m \u001b[0mf\u001b[0m\u001b[0;34m(\u001b[0m\u001b[0;34m*\u001b[0m\u001b[0margs\u001b[0m\u001b[0;34m,\u001b[0m \u001b[0;34m**\u001b[0m\u001b[0mkwargs\u001b[0m\u001b[0;34m)\u001b[0m\u001b[0;34m\u001b[0m\u001b[0;34m\u001b[0m\u001b[0m\n\u001b[0;32m---> 78\u001b[0;31m             \u001b[0mcheckForSpiceError\u001b[0m\u001b[0;34m(\u001b[0m\u001b[0mf\u001b[0m\u001b[0;34m)\u001b[0m\u001b[0;34m\u001b[0m\u001b[0;34m\u001b[0m\u001b[0m\n\u001b[0m\u001b[1;32m     79\u001b[0m             \u001b[0;32mreturn\u001b[0m \u001b[0mres\u001b[0m\u001b[0;34m\u001b[0m\u001b[0;34m\u001b[0m\u001b[0m\n\u001b[1;32m     80\u001b[0m         \u001b[0;32mexcept\u001b[0m\u001b[0;34m:\u001b[0m\u001b[0;34m\u001b[0m\u001b[0;34m\u001b[0m\u001b[0m\n",
      "\u001b[0;32m~/anaconda3/envs/ALE/lib/python3.7/site-packages/spiceypy/spiceypy.py\u001b[0m in \u001b[0;36mcheckForSpiceError\u001b[0;34m(f)\u001b[0m\n\u001b[1;32m     59\u001b[0m         \u001b[0mmsg\u001b[0m \u001b[0;34m=\u001b[0m \u001b[0mstypes\u001b[0m\u001b[0;34m.\u001b[0m\u001b[0merrorformat\u001b[0m\u001b[0;34m.\u001b[0m\u001b[0mformat\u001b[0m\u001b[0;34m(\u001b[0m\u001b[0;34m**\u001b[0m\u001b[0merrorparts\u001b[0m\u001b[0;34m)\u001b[0m\u001b[0;34m\u001b[0m\u001b[0;34m\u001b[0m\u001b[0m\n\u001b[1;32m     60\u001b[0m         \u001b[0mreset\u001b[0m\u001b[0;34m(\u001b[0m\u001b[0;34m)\u001b[0m\u001b[0;34m\u001b[0m\u001b[0;34m\u001b[0m\u001b[0m\n\u001b[0;32m---> 61\u001b[0;31m         \u001b[0;32mraise\u001b[0m \u001b[0mstypes\u001b[0m\u001b[0;34m.\u001b[0m\u001b[0mSpiceyError\u001b[0m\u001b[0;34m(\u001b[0m\u001b[0mmsg\u001b[0m\u001b[0;34m)\u001b[0m\u001b[0;34m\u001b[0m\u001b[0;34m\u001b[0m\u001b[0m\n\u001b[0m\u001b[1;32m     62\u001b[0m \u001b[0;34m\u001b[0m\u001b[0m\n\u001b[1;32m     63\u001b[0m \u001b[0;34m\u001b[0m\u001b[0m\n",
      "\u001b[0;31mSpiceyError\u001b[0m: \n================================================================================\n\nToolkit version: N0066\n\nSPICE(NOFRAMECONNECT) --\n\nAt epoch 2.7176129615881E+08 TDB (2008 AUG 11 21:14:56.158 TDB), there is insufficient information available to transform from reference frame -82360 (CASSINI_ISS_NAC) to reference frame 10040 (IAU_ENCELADUS). Frame CASSINI_ISS_NAC could be transformed to frame -82000 (CASSINI_SC_COORD). The latter is a CK frame; a CK\n\npxform_c --> PXFORM --> REFCHG\n\n================================================================================"
     ]
    }
   ],
   "source": [
    "import json, os\n",
    "\n",
    "cassini_iss_wac = '/home/kberry/dev/ale/ale/N1597182735_2.LBL' #\"/scratch/localhome/kberry/dev/ale/ale/W1472855646_5.LBL\"\n",
    "\n",
    "driver = CassiniISS(cassini_iss_wac)\n",
    "\n",
    "with driver as d:\n",
    "  #  print(\"Corrected Starting Ephem 2 UTC: \", spice.et2utc(d.starting_ephemeris_time, \"ISOC\", 100))\n",
    "  #  print(\"Corrected Start Time from label: \", [\"label\"][\"CORRECTED_START_TIME\"])\n",
    "    aledict = d.to_dict() # dump this to a json file -> this is the ISD\n",
    "    # goal = get an initial dict working for a PR\n",
    "    # check out the json encoder driver\n",
    "print(aledict)\n",
    "\n",
    "# Next step: actually use the ISD in the CSM? \n",
    "\n",
    "# export python dictionary ISD to actual JSON ISD format\n",
    "alelabel = os.path.splitext(cassini_iss_wac)[0]+\".json\"\n",
    "json.dump(aledict, open(alelabel, \"w\"), cls=JsonEncoder) #why doesn't this have newlines? is it the cls-specified encoder\n",
    "\n",
    "\n",
    "# Setup to make a csm camera model\n",
    "model=\"USGS_ASTRO_FRAME_SENSOR_MODEL\"\n",
    "plugin = csmapi.Plugin.getList()[0]\n",
    "isd = csmapi.Isd(alelabel)\n",
    "\n",
    "# Use plugin to construct a camera\n",
    "camera = plugin.constructModelFromISD(isd, model)\n",
    "\n",
    "nlines, nsamples = aledict[\"image_lines\"], aledict[\"image_samples\"]\n",
    "\n",
    "boundary = csm.generate_boundary((nlines, nsamples))\n",
    "\n",
    "geom = csm.generate_latlon_footprint(camera, boundary, aledict['radii']['semimajor'], aledict['radii']['semiminor'])\n"
   ]
  },
  {
   "cell_type": "code",
   "execution_count": 4,
   "metadata": {},
   "outputs": [
    {
     "data": {
      "text/plain": [
       "60268.0"
      ]
     },
     "execution_count": 4,
     "metadata": {},
     "output_type": "execute_result"
    }
   ],
   "source": [
    "aledict['radii']['semimajor']"
   ]
  },
  {
   "cell_type": "code",
   "execution_count": 25,
   "metadata": {},
   "outputs": [
    {
     "data": {
      "text/plain": [
       "[<matplotlib.lines.Line2D at 0x7f4364fbd748>]"
      ]
     },
     "execution_count": 25,
     "metadata": {},
     "output_type": "execute_result"
    },
    {
     "data": {
      "image/png": "[encoded data removed]",
      "text/plain": [
       "<Figure size 432x288 with 1 Axes>"
      ]
     },
     "metadata": {
      "needs_background": "light"
     },
     "output_type": "display_data"
    }
   ],
   "source": [
    "lons, lats, alts = csm.generate_latlon_boundary(camera, boundary, aledict['radii']['semimajor'], aledict['radii']['semiminor'])\n",
    "plt.plot(lons, lats)"
   ]
  },
  {
   "cell_type": "code",
   "execution_count": 23,
   "metadata": {},
   "outputs": [
    {
     "data": {
      "image/svg+xml": [
       "<svg xmlns=\"http://www.w3.org/2000/svg\" xmlns:xlink=\"http://www.w3.org/1999/xlink\" width=\"300\" height=\"166.19478105046906\" viewBox=\"-186.05065584994333 -85.16293254816033 366.63395804216964 166.19478105046906\" preserveAspectRatio=\"xMinYMin meet\"><g transform=\"matrix(1,0,0,-1,0,-4.131084045851594)\"><path fill-rule=\"evenodd\" fill=\"#ff3333\" stroke=\"#555555\" stroke-width=\"2.4442263869477974\" opacity=\"0.6\" d=\"M 19.3450739336936,42.6400585896176 L 13.3763722803309,49.2977435542739 L 3.26022910582364,56.8070511950071 L -14.9309730987129,63.9197101607749 L -44.5781121908769,67.4528130192654 L -75.235773840767,64.6011494761011 L -94.6960565346632,57.7114954861287 L -105.502581286679,50.1664129589072 L -111.823244595841,43.3974224821488 L -115.799033468076,37.7163772881812 L -120.08527250289,31.5660606257212 L -124.397843285875,23.907202296775 L -128.67837287722,14.7279286317008 L -132.870085661532,4.36030231908404 L -136.92179983497,-6.47131308907431 L -140.790951473151,-16.8732321118646 L -144.445265921295,-26.1528773379877 L -147.863057128809,-34.0130346708315 L -151.032420997964,-40.482487843976 L -155.236740036888,-46.1945252865457 L -161.630825561739,-53.0811639413848 L -172.4716203669,-60.9043432461692 L 167.004266709183,-68.3230243730777 L 131.424425886891,-71.583897065117 L 97.1536245087641,-67.671816348633 L 77.9853743899735,-60.0976998891 L 67.7766680032878,-52.3499210317478 L 61.6810268256354,-45.5943562248748 L 57.923946336022,-39.0680180671882 L 53.8258418328213,-30.6763069005585 L 49.4038043662256,-20.154542952036 L 44.6938050650029,-7.75623671044256 L 39.7523719019999,5.43178649490211 L 34.6551833661587,17.8341828136126 L 29.4919470571514,28.2884135288839 L 24.3580956538617,36.4747391679066 L 19.3450739336936,42.6400585896176 z\" /></g></svg>"
      ],
      "text/plain": [
       "<shapely.geometry.polygon.Polygon at 0x7f4365032898>"
      ]
     },
     "execution_count": 23,
     "metadata": {},
     "output_type": "execute_result"
    }
   ],
   "source": [
    "wkt = geom.ExportToWkt()\n",
    "ale_driver_geom = shapely.wkt.loads(wkt)\n",
    "ale_driver_geom.geoms[0]"
   ]
  },
  {
   "cell_type": "code",
   "execution_count": 21,
   "metadata": {},
   "outputs": [
    {
     "data": {
      "image/svg+xml": [
       "<svg xmlns=\"http://www.w3.org/2000/svg\" xmlns:xlink=\"http://www.w3.org/1999/xlink\" width=\"300\" height=\"176.6672829252681\" viewBox=\"-14.4 -104.4 388.79999999999995 176.6672829252681\" preserveAspectRatio=\"xMinYMin meet\"><g transform=\"matrix(1,0,0,-1,0,-32.132717074731914)\"><path fill-rule=\"evenodd\" fill=\"#66cc99\" stroke=\"#555555\" stroke-width=\"2.5919999999999996\" opacity=\"0.6\" d=\"M 156.64775618204894,-68.30651301380841 L 221.54239090350066,-6.203734048482708 L 252.361559831209,51.56519962215232 L 261.0208551939051,57.86728292526809 L 360.0,52.51908864107709 L 360.0,-61.001813453037485 L 360.0,-90.0 L 0.0,-90.0 L 0.0,-61.001813453037485 L 0.0,52.51908864107709 L 14.376400098433665,51.74228074902758 L 40.3363495347558,7.2549787943348685 L 68.838261038743,-49.63598546432256 L 156.64775618204894,-68.30651301380841 z\" /></g></svg>"
      ],
      "text/plain": [
       "<shapely.geometry.polygon.Polygon at 0x7f43650cf9b0>"
      ]
     },
     "execution_count": 21,
     "metadata": {},
     "output_type": "execute_result"
    }
   ],
   "source": [
    "isis_wkt = \"MULTIPOLYGON (((156.6477561820489370 -68.3065130138084129, 221.5423909035006602 -6.2037340484827084, 252.3615598312090071 51.5651996221523206, 261.0208551939051063 57.8672829252680927, 360.0000000000000000 52.5190886410770901, 360.0000000000000000 -61.0018134530374851, 360.0000000000000000 -90.0000000000000000, 0.0000000000000000 -90.0000000000000000, 0.0000000000000000 -61.0018134530374851, 0.0000000000000000 52.5190886410770901, 14.3764000984336651 51.7422807490275787, 40.3363495347557972 7.2549787943348685, 68.8382610387429992 -49.6359854643225589, 156.6477561820489370 -68.3065130138084129)))\"\n",
    "isis_geom = shapely.wkt.loads(isis_wkt)\n",
    "isis_geom.geoms[0]"
   ]
  },
  {
   "cell_type": "code",
   "execution_count": 16,
   "metadata": {},
   "outputs": [],
   "source": [
    "# compare ISIS WKT to CSM WKT using shapely\n",
    "\n",
    "\n",
    "\n",
    "#'INS{}_FOV_{}CENTER_{}PIXEL{}'.format('-10', '99', '', 'https://')"
   ]
  }
 ],
 "metadata": {
  "kernelspec": {
   "display_name": "Python 3",
   "language": "python",
   "name": "python3"
  },
  "language_info": {
   "codemirror_mode": {
    "name": "ipython",
    "version": 3
   },
   "file_extension": ".py",
   "mimetype": "text/x-python",
   "name": "python",
   "nbconvert_exporter": "python",
   "pygments_lexer": "ipython3",
   "version": "3.7.1"
  }
 },
 "nbformat": 4,
 "nbformat_minor": 2
}
