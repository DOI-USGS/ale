{
 "cells": [
  {
   "cell_type": "code",
   "execution_count": 7,
   "metadata": {},
   "outputs": [],
   "source": [
    "import os\n",
    "import re\n",
    "import numpy as np\n",
    "from glob import glob\n",
    "import subprocess\n",
    "os.environ['ALESPICEROOT'] = '/scratch/spice'\n",
    "\n",
    "import spiceypy as spice\n",
    "\n",
    "import ale\n",
    "# from ale.base.data_naif import NaifSpice\n",
    "# from ale.base.label_isis import IsisLabel\n",
    "# from ale.base.type_sensor import Framer\n",
    "# from ale.base.base import Driver\n",
    "from ale.drivers.voyager_drivers import Voyager2IssnacIsisLabelNaifSpiceDriver\n",
    "from ale import util\n",
    "\n",
    "from ale.formatters.isis_formatter import to_isis"
   ]
  },
  {
   "cell_type": "code",
   "execution_count": 2,
   "metadata": {},
   "outputs": [],
   "source": [
    "def get_image_kernels(image):\n",
    "    \"\"\"\n",
    "    Get the kernels to use with a test image.\n",
    "\n",
    "    Parameters\n",
    "    ----------\n",
    "    image : str\n",
    "            The image name to get kernels for. I.E. 'EN1072174528M'\n",
    "\n",
    "    Returns\n",
    "    -------\n",
    "    : list\n",
    "      A list containing the absolute paths to the kernels for the images.\n",
    "      This list contains all of the kernel files available in the test image's\n",
    "      data directory which may contain transfer files that need to be converted\n",
    "      to binary files.\n",
    "    \"\"\"\n",
    "    if not isinstance(image, str):\n",
    "        try:\n",
    "            image = str(image)\n",
    "        except:\n",
    "            raise KeyError('Cannot coerce requested image name to string')\n",
    "    if image in image_2_data:\n",
    "        return image_2_data[image]\n",
    "    else:\n",
    "        raise KeyError('Could not find test data for' + image)\n",
    "        \n",
    "def convert_kernels(kernels):\n",
    "    \"\"\"\n",
    "    Convert any transfer kernels in a list to binary kernels\n",
    "\n",
    "    Parameters\n",
    "    ----------\n",
    "    kernels : list\n",
    "              A list of kernels. Only transfer kernels present in the list will\n",
    "              be converted. Non-transfer kernels will be ignored.\n",
    "\n",
    "    Returns\n",
    "    -------\n",
    "    updated_kernels : list\n",
    "                      The updated kernel list where all transfer kernels have\n",
    "                      been replaced with their converted binary kernel. This\n",
    "                      is designed to be passed directly to furnsh.\n",
    "    binary_kernels : list\n",
    "                     The list of binary kernels created.\n",
    "    \"\"\"\n",
    "    binary_kernels = []\n",
    "    updated_kernels = []\n",
    "    for kernel in kernels:\n",
    "        split_kernel = os.path.splitext(kernel)\n",
    "        if 'x' in split_kernel[1].lower():\n",
    "            # Get the full path to the kernel then truncate it to the relative path\n",
    "            path = os.path.join(data_root, kernel)\n",
    "            path = os.path.relpath(path)\n",
    "            bin_output = subprocess.run(['tobin', path],\n",
    "                                        capture_output=True, check=True)\n",
    "            matches = re.search(r'To: (.*\\.b\\w*)', str(bin_output.stdout))\n",
    "            if not matches:\n",
    "                warnings.warn('Failed to convert transfer kernel, ' + kernel + ', skipping...')\n",
    "            else:\n",
    "                kernel = matches.group(1)\n",
    "                binary_kernels.append(kernel)\n",
    "        updated_kernels.append(kernel)\n",
    "    return updated_kernels, binary_kernels"
   ]
  },
  {
   "cell_type": "code",
   "execution_count": 25,
   "metadata": {},
   "outputs": [],
   "source": [
    "ale_root = os.path.split(ale.__file__)[0]\n",
    "data_root = os.path.join(ale_root, '../tests/pytests/data')\n",
    "dirs = next(os.walk(data_root, topdown=True))[1]\n",
    "dirs = [d for d in dirs if not d.startswith('.')]\n",
    "image_2_data = {}\n",
    "\n",
    "for d in dirs:\n",
    "    tmp = os.path.join(data_root, d)\n",
    "    image_2_data[d] = [os.path.join(tmp, f) for f in os.listdir(tmp) if not f.startswith('.') and os.path.splitext(f)[1] != '.lbl']\n",
    "\n",
    "\n",
    "kernels = get_image_kernels('c2065022')\n",
    "updated_kernels, _ = convert_kernels(kernels)"
   ]
  },
  {
   "cell_type": "code",
   "execution_count": 32,
   "metadata": {},
   "outputs": [
    {
     "name": "stdout",
     "output_type": "stream",
     "text": [
      "[[ 0.08584925  0.69748692 -0.62461826  0.34057882]]\n",
      "{'CameraVersion': 1, 'NaifKeywords': {'BODY502_RADII': array([1564.13, 1561.23, 1560.93]), 'BODY_FRAME_CODE': 10024, 'INS-32101_PIXEL_SIZE': 0.011789473651194, 'INS-32101_ITRANSL': [0.0, 0.0, 84.8214288089711], 'INS-32101_ITRANSS': [0.0, 84.8214288089711, 0.0], 'INS-32101_FOCAL_LENGTH': 1503.49, 'INS-32101_BORESIGHT_SAMPLE': 500.0, 'INS-32101_BORESIGHT_LINE': 500.0}, 'InstrumentPointing': {'TimeDependentFrames': [-32101, 1], 'CkTableStartTime': -646346830.7771244, 'CkTableEndTime': -646346830.7771244, 'CkTableOriginalSize': 1, 'EphemerisTimes': array([-6.46346831e+08]), 'Quaternions': array([[ 0.08584925,  0.69748692, -0.62461826,  0.34057882]])}, 'BodyRotation': {'TimeDependentFrames': [10024, 1], 'CkTableStartTime': -646346830.7771244, 'CkTableEndTime': -646346830.7771244, 'CkTableOriginalSize': 1, 'EphemerisTimes': array([-6.46346831e+08]), 'Quaternions': array([[-0.01010212, -0.22183773,  0.97458315,  0.02955773]])}, 'InstrumentPosition': {'SpkTableStartTime': -646346830.7771244, 'SpkTableEndTime': -646346830.7771244, 'SpkTableOriginalSize': 1, 'EphemerisTimes': [-646346830.7771244], 'Positions': [array([-1.42840322e+08, -1.56464615e+08, -8.36614604e+07])], 'Velocities': [array([ 7409.585186  ,   704.10667898, -1391.3111121 ])]}, 'SunPosition': {'SpkTableStartTime': -646346830.7771244, 'SpkTableEndTime': -646346830.7771244, 'SpkTableOriginalSize': 1, 'EphemerisTimes': array([-6.46346831e+08]), 'Positions': array([[-5.53524898e+11,  5.73306862e+11,  5.98595594e+09]]), 'Velocities': array([[ 1.17315672e+07,  1.13410067e+07, -6.29603589e+02]])}}\n"
     ]
    }
   ],
   "source": [
    "cub = '/home/acpaquette/voyager/c2065022.cub'\n",
    "spice_cub = '/home/acpaquette/voyager/c2065022.spice.cub'\n",
    "\n",
    "# driver = Voyager2IssnacIsisLabelNaifSpiceDriver(cub)\n",
    "\n",
    "with Voyager2IssnacIsisLabelNaifSpiceDriver(cub, props = {'kernels': updated_kernels}) as driver:\n",
    "    print(to_isis(driver))\n",
    "    frame_chain = driver.frame_chain\n",
    "    target_frame_id = driver.target_frame_id\n",
    "    sensor_frame_id = driver.sensor_frame_id\n",
    "    positions, velocities, times = driver.sensor_position\n",
    "#     print(driver.sensor_orientation)\n",
    "    state, _ = spice.spkezr(driver.target_name,\n",
    "                       -646346832.89712,\n",
    "                       driver.reference_frame,\n",
    "                       driver.light_time_correction,\n",
    "                       driver.spacecraft_name,)\n",
    "#     positions = [state[:3]]\n",
    "#     velocities = [state[3:]]"
   ]
  },
  {
   "cell_type": "code",
   "execution_count": 34,
   "metadata": {},
   "outputs": [
    {
     "data": {
      "text/plain": [
       "array([[-133396.12418842, -184605.64812144,    3162.60650649]])"
      ]
     },
     "execution_count": 34,
     "metadata": {},
     "output_type": "execute_result"
    }
   ],
   "source": [
    "rotation = frame_chain.compute_rotation(target_frame_id, 1)\n",
    "rotation._rots.apply(positions[0]) * -1/1000"
   ]
  },
  {
   "cell_type": "code",
   "execution_count": null,
   "metadata": {},
   "outputs": [],
   "source": [
    "133425.48293894,184605.07752753,-3162.2190909154"
   ]
  },
  {
   "cell_type": "code",
   "execution_count": 9,
   "metadata": {},
   "outputs": [],
   "source": [
    "test_array = np.array([[1, 2, 3], [4, 5, 6]])"
   ]
  },
  {
   "cell_type": "code",
   "execution_count": 21,
   "metadata": {},
   "outputs": [],
   "source": [
    "your_permutation = [1, 2, 0]"
   ]
  },
  {
   "cell_type": "code",
   "execution_count": 23,
   "metadata": {},
   "outputs": [
    {
     "data": {
      "text/plain": [
       "array([[2, 3, 1],\n",
       "       [5, 6, 4]])"
      ]
     },
     "execution_count": 23,
     "metadata": {},
     "output_type": "execute_result"
    }
   ],
   "source": [
    "test_array"
   ]
  },
  {
   "cell_type": "code",
   "execution_count": 35,
   "metadata": {},
   "outputs": [
    {
     "data": {
      "text/plain": [
       "True"
      ]
     },
     "execution_count": 35,
     "metadata": {},
     "output_type": "execute_result"
    }
   ],
   "source": [
    "np.isclose(500, 500.0)"
   ]
  },
  {
   "cell_type": "code",
   "execution_count": null,
   "metadata": {},
   "outputs": [],
   "source": []
  }
 ],
 "metadata": {
  "kernelspec": {
   "display_name": "ale_env",
   "language": "python",
   "name": "ale_env"
  },
  "language_info": {
   "codemirror_mode": {
    "name": "ipython",
    "version": 3
   },
   "file_extension": ".py",
   "mimetype": "text/x-python",
   "name": "python",
   "nbconvert_exporter": "python",
   "pygments_lexer": "ipython3",
   "version": "3.7.3"
  }
 },
 "nbformat": 4,
 "nbformat_minor": 2
}
