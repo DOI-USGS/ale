{
 "cells": [
  {
   "cell_type": "code",
   "execution_count": 6,
   "metadata": {},
   "outputs": [],
   "source": [
    "import spiceypy as spice\n",
    "import pvl\n",
    "import os\n",
    "import re\n",
    "import subprocess\n",
    "import ale\n",
    "import io\n",
    "import re\n",
    "\n",
    "# $messenger = /usgs/cpkgs/isis3/data/messsenger/\n",
    "# $base = /usgs/cpkgs/isis3/data/base/\n",
    "\n",
    "# Grabs the kernels and appends them to independent lists\n",
    "def check_kern(kern):\n",
    "    kern = kern.replace(\"$messenger/\", os.environ['messenger'])\n",
    "    kern = kern.replace(\"$base/\", os.environ['base'])    \n",
    "    filename, file_extension = os.path.splitext(kern)\n",
    "    if(file_extension == '.bc'):\n",
    "        bc_kerns.append(kern)\n",
    "    elif(file_extension == '.tls'):\n",
    "        tls_kerns.append(kern)\n",
    "    elif(file_extension == '.tf'):\n",
    "        tf_kerns.append(kern)\n",
    "    elif(file_extension == '.tsc'):\n",
    "        tsc_kerns.append(kern)\n",
    "    elif(file_extension == '.bsp'):\n",
    "        spk_kerns.append(kern)\n",
    "    elif(file_extension == '.ti'):\n",
    "        ti_kerns.append(kern)\n",
    "    elif(file_extension == '.tpc'):\n",
    "        tpc_kerns.append(kern)\n",
    "    else:\n",
    "        print(\"'{}' is not a valid kernel\".format(kern))\n",
    "        return 0\n",
    "    \n",
    "def get_intervals(bc_filename):\n",
    "    interval = subprocess.check_output([\"ckbrief\", bc_filename])\n",
    "    intervals = []\n",
    "\n",
    "    for line in interval.splitlines():\n",
    "        line = str(line)\n",
    "        if('Object:' in line):\n",
    "            intervals.append(int(line.strip(\"''\").split()[1]))\n",
    "            \n",
    "    return intervals\n",
    "\n",
    "def light_travel(kernels, sclk_start, sclk_stop, UTC=False):\n",
    "    merc_id = 199\n",
    "    mess_id = -236\n",
    "    \n",
    "    furnished_kerns = spice.furnsh(kernels)\n",
    "    \n",
    "    mess_state, mess_lt = spice.spkez(mess_id, (sclk_start + sclk_stop)/2, 'J2000', 'LT+S', 0)\n",
    "    merc_state, merc_lt = spice.spkez(merc_id, (sclk_start + sclk_stop)/2, 'J2000', 'LT+S', 0)\n",
    "    \n",
    "    lt_pad = max(abs(mess_lt), abs(merc_lt)) + 15\n",
    "    \n",
    "    # Eph Time\n",
    "    padded_start_et = sclk_start - lt_pad\n",
    "    padded_end_et = sclk_stop + lt_pad\n",
    "    \n",
    "    # SCLK Padded Time\n",
    "    padded_start_sclk = spice.sce2s(mess_id, padded_start_et)\n",
    "    padded_end_sclk = spice.sce2s(mess_id, padded_end_et)\n",
    "    \n",
    "    # UTC Padded Time \n",
    "    if(UTC):\n",
    "        padded_start_utc = spice.et2utc(padded_start_et, 'c', 3)\n",
    "        padded_end_utc = spice.et2utc(padded_end_et, 'c', 3)\n",
    "        \n",
    "        return padded_start_utc, padded_end_utc\n",
    "    \n",
    "    return padded_start_sclk, padded_end_sclk\n",
    "    \n",
    "def ckslicer(bc_kern, tsc_kern, tls_kern, sclk_start, sclk_stop, reference_id):\n",
    "\n",
    "    ck_filename, ck_file_extension = os.path.splitext(bc_kerns[0]) \n",
    "    #     sclk_start, sclk_stop =scl \n",
    "    sclk_stop = spice.sce2s(spacecraft_id, spice.scs2e(spacecraft_id, sclk_start) + exp_dur)\n",
    "\n",
    "    ckslicer_command = [\"./ckslicer\", \n",
    "                        '-LSK {}'.format(tls_kern), \n",
    "                        '-SCLK {}'.format(tsc_kern), \n",
    "                        '-INPUTCK {}'.format(ck_filename + ck_file_extension), \n",
    "                        '-OUTPUTCK {}'.format(\"~/Desktop/ck\" +'_sliced' + ck_file_extension),\n",
    "                        '-ID {}'.format(reference_id),\n",
    "                        '-TIMETYPE {}'.format('SCLK'),\n",
    "                        '-START {}'.format(sclk_start),\n",
    "                        '-STOP {}'.format(sclk_stop)]\n",
    "    \n",
    "    return subprocess.call(ckslicer_command), ckslicer_command  "
   ]
  },
  {
   "cell_type": "code",
   "execution_count": 7,
   "metadata": {},
   "outputs": [
    {
     "name": "stdout",
     "output_type": "stream",
     "text": [
      "'Table' is not a valid kernel\n",
      "'Table' is not a valid kernel\n",
      "'Table' is not a valid kernel\n"
     ]
    }
   ],
   "source": [
    "# !ckbrief\n",
    "\n",
    "# Enviorment variable that will be used to grab isis3 data\n",
    "os.environ['messenger'] = \"/usgs/cpkgs/isis3/data/messenger/\"\n",
    "os.environ['base'] = \"/usgs/cpkgs/isis3/data/base/\"\n",
    "os.environ['spk_home'] = \"/usgs/cpkgs/isis3/data/messenger/kernels/tspk/\"\n",
    "\n",
    "# Cube image path\n",
    "cube_lab = \"/Users/tthatcher/Desktop/FORKS/data/EN1072174528M.cub\"\n",
    "\n",
    "# Loads cube to extract data\n",
    "cube_pvl = pvl.load(cube_lab)\n",
    "\n",
    "# The kernels that the cub uses\n",
    "parsed_kerns = cube_pvl['IsisCube']['Kernels']\n",
    "\n",
    "# Starting SCLK string and ExposureDuration\n",
    "sclk_start = cube_pvl['IsisCube']['Instrument']['SpacecraftClockCount']\n",
    "exp_dur = cube_pvl['IsisCube']['Instrument']['ExposureDuration'].value * 0.001\n",
    "\n",
    "# The fields we care about in the cub\n",
    "required_elems = ['LeapSecond', 'TargetAttitudeShape', 'TargetPosition', 'InstrumentPointing', 'Instrument', \n",
    "                 'SpacecraftClock', 'InstrumentPosition', 'InstrumentAddendum']\n",
    "\n",
    "# Lists to be used to store kernel vars\n",
    "kernel_list = []\n",
    "bc_kerns = []\n",
    "tls_kerns = []\n",
    "tf_kerns = []\n",
    "tsc_kerns = []\n",
    "spk_kerns = []\n",
    "ti_kerns = []\n",
    "tpc_kerns = []\n",
    "\n",
    "for kern in required_elems:\n",
    "    kern = parsed_kerns[kern]\n",
    "    if(isinstance(kern, list)):\n",
    "        for kernel in kern:\n",
    "            check_kern(kernel)\n",
    "    else:\n",
    "        check_kern(kern)\n",
    "\n",
    "space_intervals = get_intervals(bc_kerns[0])\n",
    "target_spk_file = os.path.join(os.environ['spk_home'], \"de423s.bsp\")\n",
    "kernels = bc_kerns + tsc_kerns + tls_kerns + spk_kerns + ti_kerns + tf_kerns + tsc_kerns\n",
    "\n",
    "# Spacecraft / Reference ID of CK kerns\n",
    "spacecraft_id = int(str(space_intervals[0])[:-3])\n",
    "reference_id = int(str(space_intervals[0]))\n",
    "\n",
    "# Gets SCLK times\n",
    "spice.furnsh(kernels)\n",
    "sclk_start = spice.scs2e(spacecraft_id, sclk_start)\n",
    "sclk_stop = sclk_start + exp_dur\n",
    "\n",
    "# Gets light corrected SCLK times\n",
    "padded_sclk_start, padded_sclk_stop = light_travel(kernels, sclk_start, sclk_stop)\n",
    "\n",
    "call, cmd = ckslicer(bc_kerns[0], tsc_kerns[0], tls_kerns[0], padded_sclk_start, padded_sclk_stop, reference_id)"
   ]
  },
  {
   "cell_type": "code",
   "execution_count": 8,
   "metadata": {},
   "outputs": [
    {
     "data": {
      "text/plain": [
       "0"
      ]
     },
     "execution_count": 8,
     "metadata": {},
     "output_type": "execute_result"
    }
   ],
   "source": [
    "# Remove comments from the ck file\n",
    "# NOTE: '~' will not work, use full path\n",
    "new_kern = '/Users/tthatcher/Desktop/ck' +'_sliced' + '.bc'\n",
    "commnt_command = ['commnt', '-d {}'.format(str(new_kern))]\n",
    "subprocess.call(commnt_command)\n",
    "\n",
    "# Makes a new txt file for the only comments that should be stored in the new ck file\n",
    "with open(\"temp_commnts.txt\",\"w+\") as f:\n",
    "    first_line = \"This CK is for testing with the image: {}\".format(cube_lab)\n",
    "    second_line = \"\\nThis CK was generated using the following command: {}\".format(\" \".join(cmd))\n",
    "    f.write(first_line + second_line)\n",
    "\n",
    "new_commnts_command = [\"commnt\", \"-a {}\".format(new_kern), \"temp_commnts.txt\"]\n",
    "subprocess.call(new_commnts_command)"
   ]
  },
  {
   "cell_type": "code",
   "execution_count": 9,
   "metadata": {},
   "outputs": [
    {
     "data": {
      "text/plain": [
       "1"
      ]
     },
     "execution_count": 9,
     "metadata": {},
     "output_type": "execute_result"
    }
   ],
   "source": [
    "# Transfer the subsetted ck into a xfr file\n",
    "toxfr_command = \"toxfr\", \"{}\".format(new_kern)\n",
    "subprocess.call(toxfr_command)"
   ]
  },
  {
   "cell_type": "code",
   "execution_count": 11,
   "metadata": {},
   "outputs": [
    {
     "data": {
      "text/plain": [
       "['LEAPSECONDS_KERNEL     = <Your LSK kernel>\\n',\n",
       " '      SPK_KERNEL             = <the SPK your are creating>\\n',\n",
       " '         SOURCE_SPK_KERNEL   = <the SPK your are extracting from>\\n',\n",
       " '            INCLUDE_COMMENTS = no\\n',\n",
       " '            BODIES              = <the ID code of either your spacecraft or target>\\n',\n",
       " '            BEGIN_TIME          = <the start time of your image as a UTC string>\\n',\n",
       " '            END_TIME            = <the stop time of your image as a UTC stirng>']"
      ]
     },
     "execution_count": 11,
     "metadata": {},
     "output_type": "execute_result"
    }
   ],
   "source": [
    "baseSPK = '''LEAPSECONDS_KERNEL     = <Your LSK kernel>\n",
    "      SPK_KERNEL             = <the SPK your are creating>\n",
    "         SOURCE_SPK_KERNEL   = <the SPK your are extracting from>\n",
    "            INCLUDE_COMMENTS = no\n",
    "            BODIES              = <the ID code of either your spacecraft or target>\n",
    "            BEGIN_TIME          = <the start time of your image as a UTC string>\n",
    "            END_TIME            = <the stop time of your image as a UTC stirng>'''\n",
    "\n",
    "f = io.StringIO(baseSPK)\n",
    "line = f.readline()\n",
    "while():\n",
    "    f.write(line.replace(\"<Your LSK kernel>\", tls_kerns[0]))\n",
    "    line = f.readline()\n",
    "\n",
    "f.seek(0)\n",
    "f.readlines()"
   ]
  },
  {
   "cell_type": "code",
   "execution_count": null,
   "metadata": {
    "scrolled": true
   },
   "outputs": [],
   "source": [
    "# !commnt -d ~/Desktop/ck_sliced.bc\n",
    "# !./ckslicer -LSK /usgs/cpkgs/isis3/data/base/kernels/lsk/naif0012.tls -SCLK /usgs/cpkgs/isis3/data/messenger/kernels/sclk/messenger_2548.tsc -INPUTCK /usgs/cpkgs/isis3/data/messenger/kernels/ck/msgr_1504_v01.bc -OUTPUTCK ~/Desktop/ck_sliced.bc -ID -236001 -TIMETYPE SCLK -START \"2/0072174528:989000\" -STOP \"2/072174528:990000\""
   ]
  },
  {
   "cell_type": "code",
   "execution_count": null,
   "metadata": {},
   "outputs": [],
   "source": [
    "print(cube_pvl)"
   ]
  },
  {
   "cell_type": "code",
   "execution_count": 12,
   "metadata": {},
   "outputs": [
    {
     "name": "stdout",
     "output_type": "stream",
     "text": [
      "199\n"
     ]
    }
   ],
   "source": [
    "spaccraft_name = cube_pvl['IsisCube']['Instrument']['SpacecraftName']\n",
    "target_name = cube_pvl['IsisCube']['Instrument']['TargetName']\n",
    "\n",
    "# Convert strings to int ID's\n",
    "craft_id = spice.bods2c(spaccraft_name)\n",
    "target_id = spice.bods2c(target_name)\n",
    "print(target_id)"
   ]
  },
  {
   "cell_type": "code",
   "execution_count": 13,
   "metadata": {},
   "outputs": [
    {
     "name": "stdout",
     "output_type": "stream",
     "text": [
      "{-236: {1, 2, 10, 399}, 1: {0}, 2: {0}, 10: {0}, 399: {3}, 3: {0}}\n"
     ]
    }
   ],
   "source": [
    "def check_done(id_dict, base_id):\n",
    "    for key in id_dict.keys():\n",
    "        if(key != base_id):\n",
    "            if(0 in id_dict[key]):\n",
    "                continue\n",
    "            else:\n",
    "                return False, id_dict[key]\n",
    "    return True, id_dict\n",
    "                \n",
    "def search_string(spk_file, body_id, id_dict=None):\n",
    "    x = subprocess.check_output([\"brief\", \"-c {}\".format(spk_file)])\n",
    "    \n",
    "    # Convert from bytes\n",
    "    x = x.decode(\"utf-8\")\n",
    "    f = io.StringIO(x)\n",
    "    line = f.readline()\n",
    "    \n",
    "    if id_dict:\n",
    "        id_dict[body_id] = set()\n",
    "    else:\n",
    "        id_dict = {body_id: set()}\n",
    "        \n",
    "    while(line):\n",
    "        body_result = re.search(r'Body:(.*?)\\n', line)\n",
    "        \n",
    "        if body_result:\n",
    "            body_result = body_result.group(0)\n",
    "            body_result = re.findall('\\((.*?)\\)', body_result)\n",
    "            \n",
    "            if(int(body_result[0]) == body_id):\n",
    "                body_1 = int(body_result[0])\n",
    "                body_2 = int(body_result[1])\n",
    "                id_dict[body_1].add(body_2)\n",
    "            \n",
    "        else:\n",
    "            if(\"w.r.t\" in line):\n",
    "                bodies_results = re.findall('\\((.*?)\\)', line)\n",
    "                for key in id_dict.keys():\n",
    "                    bodies_1 = int(bodies_results[0])\n",
    "                    bodies_2 = int(bodies_results[1])\n",
    "                    if(bodies_1 == key):\n",
    "                        id_dict[key].add(bodies_2)\n",
    "                        \n",
    "        line = f.readline()\n",
    "    \n",
    "    return id_dict\n",
    "\n",
    "def get_spk_ids(file):\n",
    "    base_id = -236\n",
    "    ids = search_string(file, base_id)\n",
    "    \n",
    "    # Search that a 0 is in the dict and return False otherwise\n",
    "    for val in ids[base_id]:\n",
    "        ids = search_string(file, val, id_dict=ids)\n",
    "        status, vals = check_done(ids, base_id)\n",
    "        if(status == True):\n",
    "            continue\n",
    "        else:\n",
    "            # For each false value search again\n",
    "            for unfinished_val in vals:\n",
    "                search_string(file, unfinished_val, id_dict=ids)\n",
    "    return ids\n",
    "\n",
    "file = \"/usgs/cpkgs/isis3/data/messenger/kernels/spk/msgr_20040803_20150430_od431sc_2.bsp\"\n",
    "ids = get_spk_ids(file)\n",
    "print(ids)"
   ]
  },
  {
   "cell_type": "code",
   "execution_count": 17,
   "metadata": {},
   "outputs": [
    {
     "data": {
      "text/plain": [
       "[' \\n',\n",
       " 'BRIEF -- Version 4.0.0, September 8, 2010 -- Toolkit Version N0066\\n',\n",
       " ' \\n',\n",
       " ' \\n',\n",
       " 'Summary for: /usgs/cpkgs/isis3/data/messenger/kernels/spk/msgr_20040803_20150430_od431sc_2.bsp\\n',\n",
       " ' \\n',\n",
       " 'Body: MESSENGER (-236) w.r.t. MERCURY BARYCENTER (1)\\n',\n",
       " '      Start of Interval (ET)              End of Interval (ET)\\n',\n",
       " '      -----------------------------       -----------------------------\\n',\n",
       " '      2008 JAN 13 19:18:06.919            2008 JAN 15 18:52:08.364\\n',\n",
       " '      2008 OCT 05 06:12:17.599            2008 OCT 07 11:08:05.670\\n',\n",
       " '      2009 SEP 28 05:25:44.180            2009 OCT 01 14:07:55.870\\n',\n",
       " '      2011 MAR 15 11:20:36.100            2015 APR 30 19:27:09.351\\n',\n",
       " ' \\n',\n",
       " 'Body: MESSENGER (-236) w.r.t. VENUS BARYCENTER (2)\\n',\n",
       " '      Start of Interval (ET)              End of Interval (ET)\\n',\n",
       " '      -----------------------------       -----------------------------\\n',\n",
       " '      2006 OCT 16 19:26:46.293            2006 OCT 31 22:15:29.222\\n',\n",
       " '      2007 MAY 29 09:28:46.998            2007 JUN 13 15:30:49.997\\n',\n",
       " ' \\n',\n",
       " 'Body: MESSENGER (-236) w.r.t. SUN (10)\\n',\n",
       " '      Start of Interval (ET)              End of Interval (ET)\\n',\n",
       " '      -----------------------------       -----------------------------\\n',\n",
       " '      2004 AUG 10 04:06:05.612            2005 JUL 26 22:39:53.204\\n',\n",
       " '      2005 AUG 09 16:04:35.204            2006 OCT 16 19:26:46.293\\n',\n",
       " '      2006 OCT 31 22:15:29.222            2007 MAY 29 09:28:46.998\\n',\n",
       " '      2007 JUN 13 15:30:49.997            2008 JAN 13 19:18:06.919\\n',\n",
       " '      2008 JAN 15 18:52:08.364            2008 OCT 05 06:12:17.599\\n',\n",
       " '      2008 OCT 07 11:08:05.670            2009 SEP 28 05:25:44.180\\n',\n",
       " '      2009 OCT 01 14:07:55.870            2011 MAR 15 11:20:36.100\\n',\n",
       " ' \\n',\n",
       " 'Body: MESSENGER (-236) w.r.t. EARTH (399)\\n',\n",
       " '      Start of Interval (ET)              End of Interval (ET)\\n',\n",
       " '      -----------------------------       -----------------------------\\n',\n",
       " '      2004 AUG 03 07:14:39.393            2004 AUG 10 04:06:05.612\\n',\n",
       " '      2005 JUL 26 22:39:53.204            2005 AUG 09 16:04:35.204\\n',\n",
       " ' \\n',\n",
       " 'Bodies: MERCURY BARYCENTER (1) w.r.t. SOLAR SYSTEM BARYCENTER (0)\\n',\n",
       " '        EARTH BARYCENTER (3) w.r.t. SOLAR SYSTEM BARYCENTER (0)\\n',\n",
       " '        Start of Interval (ET)              End of Interval (ET)\\n',\n",
       " '        -----------------------------       -----------------------------\\n',\n",
       " '        2004 AUG 03 07:14:39.393            2015 APR 30 19:27:09.351\\n',\n",
       " ' \\n',\n",
       " 'Bodies: VENUS BARYCENTER (2) w.r.t. SOLAR SYSTEM BARYCENTER (0)\\n',\n",
       " '        MARS BARYCENTER (4) w.r.t. SOLAR SYSTEM BARYCENTER (0)\\n',\n",
       " '        JUPITER BARYCENTER (5) w.r.t. SOLAR SYSTEM BARYCENTER (0)\\n',\n",
       " '        SATURN BARYCENTER (6) w.r.t. SOLAR SYSTEM BARYCENTER (0)\\n',\n",
       " '        URANUS BARYCENTER (7) w.r.t. SOLAR SYSTEM BARYCENTER (0)\\n',\n",
       " '        NEPTUNE BARYCENTER (8) w.r.t. SOLAR SYSTEM BARYCENTER (0)\\n',\n",
       " '        PLUTO BARYCENTER (9) w.r.t. SOLAR SYSTEM BARYCENTER (0)\\n',\n",
       " '        SUN (10) w.r.t. SOLAR SYSTEM BARYCENTER (0)\\n',\n",
       " '        MERCURY (199) w.r.t. MERCURY BARYCENTER (1)\\n',\n",
       " '        VENUS (299) w.r.t. VENUS BARYCENTER (2)\\n',\n",
       " '        MOON (301) w.r.t. EARTH BARYCENTER (3)\\n',\n",
       " '        EARTH (399) w.r.t. EARTH BARYCENTER (3)\\n',\n",
       " '        MARS (499) w.r.t. MARS BARYCENTER (4)\\n',\n",
       " '        Start of Interval (ET)              End of Interval (ET)\\n',\n",
       " '        -----------------------------       -----------------------------\\n',\n",
       " '        2004 AUG 03 07:14:39.393            2015 APR 30 19:35:23.382\\n',\n",
       " ' \\n']"
      ]
     },
     "execution_count": 17,
     "metadata": {},
     "output_type": "execute_result"
    }
   ],
   "source": [
    "x = subprocess.check_output([\"brief\", \"-c {}\".format(file)])\n",
    "x = x.decode(\"utf-8\")\n",
    "f = io.StringIO(x)\n",
    "f.readlines()"
   ]
  },
  {
   "cell_type": "code",
   "execution_count": null,
   "metadata": {},
   "outputs": [],
   "source": []
  }
 ],
 "metadata": {
  "kernelspec": {
   "display_name": "Python 3",
   "language": "python",
   "name": "python3"
  },
  "language_info": {
   "codemirror_mode": {
    "name": "ipython",
    "version": 3
   },
   "file_extension": ".py",
   "mimetype": "text/x-python",
   "name": "python",
   "nbconvert_exporter": "python",
   "pygments_lexer": "ipython3",
   "version": "3.7.1"
  }
 },
 "nbformat": 4,
 "nbformat_minor": 2
}
