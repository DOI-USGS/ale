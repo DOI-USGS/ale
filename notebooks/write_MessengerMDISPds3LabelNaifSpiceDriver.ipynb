{
 "cells": [
  {
   "cell_type": "markdown",
   "metadata": {},
   "source": [
    "# Writing out a USGSCSM ISD from a PDS3 Messenger MDIS image"
   ]
  },
  {
   "cell_type": "code",
   "execution_count": 25,
   "metadata": {},
   "outputs": [],
   "source": [
    "import ale\n",
    "from ale.drivers.messenger_drivers import MessengerMdisPds3NaifSpiceDriver\n",
    "from ale.formatters.usgscsm_formatter import to_usgscsm\n",
    "import json\n",
    "import os"
   ]
  },
  {
   "cell_type": "markdown",
   "metadata": {},
   "source": [
    "## Instantiating an ALE driver\n",
    "\n",
    "ALE drivers are objects that define how to acquire common ISD keys from an input image format, in this case we are reading in a PDS3 image using NAIF SPICE kernels for exterior orientation data. If the driver utilizes NAIF SPICE kernels, it is implemented as a [context manager](https://docs.python.org/3/reference/datamodel.html#context-managers) and will furnish metakernels when entering the context (i.e. when entering the `with` block) and free the metakernels on exit. This maintains the integrity of spicelib's internal data structures. These driver objects are short-lived and are input to a formatter function that consumes the API to create a serializable file format. `ale.formatters` contains available formatter functions. \n",
    "\n",
    "The default config file is located at `ale/config.yml` and is copied into your home directory at `.ale/config.yml` on first use of the library. The config file can be modified using a text editor. `ale.config` is loaded into memory as a dictionary. It is used to find metakernels for different missions. For example, there is an entry for LRO that points to `/usgs/cpkgs/isis3/data/lro/kernels/mk/` by default. If you want to use your own metakernels, you will need to udpate this path. For example, if the metakernels are located in `/data/lrolrocnac/mk/` the LRO entry should be updated with this path. If you are using the default metakernels, then you do not need to update the path.\n",
    "\n",
    "ALE has a two step process for writing out an ISD: 1. Instantiate your driver (in this case `MessengerMdisPds3NaifSpiceDriver`) within a context and 2. pass the driver object into a formatter (in this case, `to_usgscsm`).  \n",
    "\n",
    "Requirements:\n",
    " * A PDS3 Messenger MDIS image\n",
    " * NAIF metakernels installed\n",
    " * Config file path for LRO (ale.config.lro) pointing to LRO NAIF metakernel directory \n",
    " * A conda environment with ALE installed into it usisng the `conda install` command or created using the environment.yml file at the base of ALE."
   ]
  },
  {
   "cell_type": "code",
   "execution_count": 26,
   "metadata": {},
   "outputs": [
    {
     "name": "stdout",
     "output_type": "stream",
     "text": [
      "cassini: /usgs/cpkgs/isis3/data/cassini/kernels/mk/\n",
      "dawn: /data/spice/dawn-m_a-spice-6-v1.0/dawnsp_1000/extras/mk\n",
      "kaguya: /data/spice/SELENE/kernels/mk/\n",
      "lro: /scratch/jlaura/spice/lro-l-spice-6-v1.0/lrosp_1000/extras/mk/\n",
      "mdis: /data/spice/mess-e_v_h-spice-6-v1.0/messsp_1000/extras/mk\n",
      "mro: /data/spice/mro-m-spice-6-v1.0/mrosp_1000/extras/mk\n",
      "spice_root: /data/spice/\n",
      "\n",
      "MDIS spice directory: /data/spice/mess-e_v_h-spice-6-v1.0/messsp_1000/extras/mk\n"
     ]
    }
   ],
   "source": [
    "# printing config displays the yaml formatted string\n",
    "print(ale.config)\n",
    "\n",
    "# config object is a dictionary so it has the same access patterns \n",
    "print('MDIS spice directory:', ale.config['mdis'])\n",
    "\n",
    "# updating config for new MDIS path in this notebook \n",
    "# Note: this will not change the path in `.ale/config.yml`. This change only lives in the notebook.\n",
    "ale.config['mdis'] = '/work/users/sgstapleton/ale/'"
   ]
  },
  {
   "cell_type": "code",
   "execution_count": 27,
   "metadata": {},
   "outputs": [],
   "source": [
    "# change to desired PDS3 image path \n",
    "fileName = '/home/kdlee/builds/ale/EN1072174528M.IMG'\n",
    "\n",
    "# metakernels are furnsh-ed when entering the context (with block) with a driver instance\n",
    "# most driver constructors simply accept an image path \n",
    "with MessengerMdisPds3NaifSpiceDriver(fileName) as driver:\n",
    "    # pass driver instance into formatter function\n",
    "    usgscsmString = to_usgscsm(driver)"
   ]
  },
  {
   "cell_type": "markdown",
   "metadata": {},
   "source": [
    "### Write ISD to disk \n",
    "\n",
    "ALE formatter functions generally return bytes or a string that can be written out to disk. ALE's USGSCSM formatter function returns a JSON encoded string that can be written out using any JSON library. \n",
    "\n",
    "USGSCSM requires the ISD to be colocated with the image file with a `.json` extension in place of the image extension."
   ]
  },
  {
   "cell_type": "code",
   "execution_count": 28,
   "metadata": {},
   "outputs": [],
   "source": [
    "# load the json encoded string ISD\n",
    "usgscsm_dict = json.loads(usgscsmString)\n",
    "\n",
    "# strip the image file extension and append .json \n",
    "jsonFile = os.path.splitext(fileName)[0] + '.json'\n",
    "\n",
    "# write to disk \n",
    "with open(jsonFile, 'w') as fp:\n",
    "    json.dump(usgscsm_dict, fp)"
   ]
  },
  {
   "cell_type": "code",
   "execution_count": 31,
   "metadata": {},
   "outputs": [
    {
     "name": "stdout",
     "output_type": "stream",
     "text": [
      "CAN'T CONSTRUCT\n"
     ]
    }
   ],
   "source": [
    "import knoten\n",
    "import csmapi\n",
    "model=\"USGS_ASTRO_LINE_SCANNER_SENSOR_MODEL\"\n",
    "plugin = csmapi.Plugin.getList()[0]\n",
    "isd = csmapi.Isd('jsonFile')\n",
    "warns = csmapi.WarningList()\n",
    "if plugin.canModelBeConstructedFromISD(isd, model, warns):\n",
    "    print(\"GOT HERE\")\n",
    "    camera = plugin.constructModelFromISD(isd, model)\n",
    "    print(camera)\n",
    "else:\n",
    "    print(\"CAN'T CONSTRUCT\")\n",
    "    for item in warns:\n",
    "        print(item.getMessage())"
   ]
  },
  {
   "cell_type": "code",
   "execution_count": 3,
   "metadata": {},
   "outputs": [],
   "source": [
    "from pysis import isis"
   ]
  },
  {
   "cell_type": "code",
   "execution_count": 18,
   "metadata": {},
   "outputs": [],
   "source": [
    "output = isis.campt(from_='/home/kdlee/builds/ale/EN1072174528M.cub')"
   ]
  },
  {
   "cell_type": "code",
   "execution_count": 13,
   "metadata": {},
   "outputs": [],
   "source": [
    "import pvl\n",
    "import numpy as np\n",
    "pvl_output = pvl.loads(output)"
   ]
  },
  {
   "cell_type": "code",
   "execution_count": 14,
   "metadata": {},
   "outputs": [],
   "source": [
    "bodyfixed = pvl_output['GroundPoint']['BodyFixedCoordinate']\n",
    "bodyfixed = np.asarray(bodyfixed.value) * 1000"
   ]
  },
  {
   "cell_type": "code",
   "execution_count": 23,
   "metadata": {},
   "outputs": [
    {
     "ename": "NameError",
     "evalue": "name 'camera' is not defined",
     "output_type": "error",
     "traceback": [
      "\u001b[0;31m---------------------------------------------------------------------------\u001b[0m",
      "\u001b[0;31mNameError\u001b[0m                                 Traceback (most recent call last)",
      "\u001b[0;32m<ipython-input-23-dce9ef3b873b>\u001b[0m in \u001b[0;36m<module>\u001b[0;34m\u001b[0m\n\u001b[1;32m      1\u001b[0m \u001b[0;32mfrom\u001b[0m \u001b[0mknoten\u001b[0m \u001b[0;32mimport\u001b[0m \u001b[0mcsm\u001b[0m\u001b[0;34m\u001b[0m\u001b[0;34m\u001b[0m\u001b[0m\n\u001b[0;32m----> 2\u001b[0;31m \u001b[0mcsm\u001b[0m\u001b[0;34m.\u001b[0m\u001b[0mgenerate_ground_point\u001b[0m\u001b[0;34m(\u001b[0m\u001b[0mdem\u001b[0m\u001b[0;34m=\u001b[0m\u001b[0;36m0\u001b[0m\u001b[0;34m,\u001b[0m \u001b[0mimage_pt\u001b[0m\u001b[0;34m=\u001b[0m\u001b[0;34m(\u001b[0m\u001b[0;36m256\u001b[0m\u001b[0;34m,\u001b[0m \u001b[0;36m256\u001b[0m\u001b[0;34m)\u001b[0m\u001b[0;34m,\u001b[0m \u001b[0mcamera\u001b[0m\u001b[0;34m=\u001b[0m\u001b[0mcamera\u001b[0m\u001b[0;34m)\u001b[0m\u001b[0;34m\u001b[0m\u001b[0;34m\u001b[0m\u001b[0m\n\u001b[0m",
      "\u001b[0;31mNameError\u001b[0m: name 'camera' is not defined"
     ]
    }
   ],
   "source": [
    "from knoten import csm\n",
    "csm.generate_ground_point(dem=0, image_pt=(256, 256), camera=camera)"
   ]
  },
  {
   "cell_type": "code",
   "execution_count": 19,
   "metadata": {},
   "outputs": [
    {
     "data": {
      "text/plain": [
       "b'Group = GroundPoint\\n  Filename                   = /home/kdlee/builds/ale/EN1072174528M.cub\\n  Sample                     = 256.0\\n  Line                       = 256.0\\n  PixelValue                 = 284\\n  RightAscension             = 166.36587753487 <DEGREE>\\n  Declination                = -43.071551129512 <DEGREE>\\n  PlanetocentricLatitude     = 46.273591918608 <DEGREE>\\n  PlanetographicLatitude     = 46.273591918608 <DEGREE>\\n  PositiveEast360Longitude   = 248.06178671888 <DEGREE>\\n  PositiveEast180Longitude   = -111.93821328112 <DEGREE>\\n  PositiveWest360Longitude   = 111.93821328112 <DEGREE>\\n  PositiveWest180Longitude   = 111.93821328112 <DEGREE>\\n  BodyFixedCoordinate        = (-629.77103851644, -1563.590514698,\\n                                1762.3084455539) <km>\\n  LocalRadius                = 2438679.5434985 <meters>\\n  SampleResolution           = 1.4794782052815 <meters/pixel>\\n  LineResolution             = 1.4794782052815 <meters/pixel>\\n  ObliqueDetectorResolution  = 0.76769234974257 <meters>\\n  ObliquePixelResolution     = 1.5353846994851 <meters/pix>\\n  ObliqueLineResolution      = 1.5353846994851 <meters>\\n  ObliqueSampleResolution    = 1.5353846994851 <meters>\\n\\n  # Spacecraft Information\\n  SpacecraftPosition         = (-629.49650226298, -1582.9460025676,\\n                                1783.9526404627) <km>\\n  SpacecraftAzimuth          = 0.77909150553168 <DEGREE>\\n  SlantDistance              = 29.037586918983 <km>\\n  TargetCenterDistance       = 2466.6720326829 <km>\\n  SubSpacecraftLatitude      = 46.321178466534 <DEGREE>\\n  SubSpacecraftLongitude     = 248.31356944652 <DEGREE>\\n  SpacecraftAltitude         = 27.904526879588 <km>\\n  OffNadirAngle              = 15.32875695653 <DEGREE>\\n  SubSpacecraftGroundAzimuth = 74.610139319277 <DEGREE>\\n\\n  # Sun Information\\n  SunPosition                = (-46894773.370876, -536157.82309171,\\n                                27117.056015849) <km>\\n  SubSolarAzimuth            = 179.40630893702 <DEGREE>\\n  SolarDistance              = 0.31348840281605 <AU>\\n  SubSolarLatitude           = 0.033129302897086 <DEGREE>\\n  SubSolarLongitude          = 180.65504617628 <DEGREE>\\n  SubSolarGroundAzimuth      = 253.28619856473 <DEGREE>\\n\\n  # Illumination and Other\\n  Phase                      = 90.083223817466 <DEGREE>\\n  Incidence                  = 74.578057834454 <DEGREE>\\n  Emission                   = 15.50910862645 <DEGREE>\\n  NorthAzimuth               = 285.66352649574 <DEGREE>\\n\\n  # Time\\n  EphemerisTime              = 483122606.85252 <seconds>\\n  UTC                        = 2015-04-24T04:42:19.6669638\\n  LocalSolarTime             = 16.493782702841 <hour>\\n  SolarLongitude             = 76.612729211781 <DEGREE>\\n\\n  # Look Direction Unit Vectors in Body Fixed, J2000, and Camera Coordinate Systems.\\n  LookDirectionBodyFixed     = (-0.0094545133600247, 0.6665666786861,\\n                                -0.74538545400517)\\n  LookDirectionJ2000         = (-0.70991649596209, 0.17219447543326,\\n                                -0.68291114457971)\\n  LookDirectionCamera        = (-2.54278948111364e-05, -2.54756757753216e-05,\\n                                0.9999999993522)\\nEnd_Group\\n'"
      ]
     },
     "execution_count": 19,
     "metadata": {},
     "output_type": "execute_result"
    }
   ],
   "source": [
    "output"
   ]
  },
  {
   "cell_type": "code",
   "execution_count": null,
   "metadata": {},
   "outputs": [],
   "source": []
  }
 ],
 "metadata": {
  "kernelspec": {
   "display_name": "Python 3",
   "language": "python",
   "name": "python3"
  },
  "language_info": {
   "codemirror_mode": {
    "name": "ipython",
    "version": 3
   },
   "file_extension": ".py",
   "mimetype": "text/x-python",
   "name": "python",
   "nbconvert_exporter": "python",
   "pygments_lexer": "ipython3",
   "version": "3.7.3"
  }
 },
 "nbformat": 4,
 "nbformat_minor": 2
}
