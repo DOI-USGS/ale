{
 "cells": [
  {
   "cell_type": "code",
   "execution_count": null,
   "id": "318dcdae",
   "metadata": {},
   "outputs": [],
   "source": []
  },
  {
   "cell_type": "code",
   "execution_count": null,
   "id": "accb1a2f",
   "metadata": {},
   "outputs": [],
   "source": [
    "import os\n",
    "import spiceypy as spice\n",
    "import json\n",
    "import numpy as np\n",
    "import pvl\n",
    "\n",
    "import ale\n",
    "from ale.base import Driver\n",
    "from ale.base.label_isis import IsisLabel\n",
    "from ale.base.data_naif import NaifSpice\n",
    "from ale.base.type_distortion import RadialDistortion, NoDistortion\n",
    "from ale.base.type_sensor import Framer, LineScanner\n",
    "from ale.drivers.clementine_drivers import ClementineUvvisIsisLabelNaifSpiceDriver\n",
    "from ale.util import generate_kernels_from_cube\n",
    "from ale.base.type_sensor import Framer\n",
    "from ale.base.type_distortion import NoDistortion\n",
    "\n",
    "from ale import util\n",
    "from ale.util import generate_kernels_from_cube\n",
    "from ale.formatters.formatter import to_isd"
   ]
  },
  {
   "cell_type": "code",
   "execution_count": null,
   "id": "0d88ed00",
   "metadata": {},
   "outputs": [],
   "source": [
    "os.environ[\"ISISDATA\"] = \"\"\n",
    "os.environ[\"ISISTESTDATA\"] = \"\"\n",
    "os.environ[\"ISISROOT\"] = \"\""
   ]
  },
  {
   "cell_type": "code",
   "execution_count": null,
   "id": "4e3f8e49",
   "metadata": {},
   "outputs": [],
   "source": [
    "!spiceinit from=LUA3107H.161.clem.cub"
   ]
  },
  {
   "cell_type": "code",
   "execution_count": null,
   "id": "94fe9e7b",
   "metadata": {},
   "outputs": [],
   "source": [
    "import pprint\n",
    "\n",
    "ale_file = \"LUA3107H.161.clem.cub\"\n",
    "\n",
    "with ClementineUvvisIsisLabelNaifSpiceDriver(ale_file, props = {\"kernels\" : kernels}) as driver: \n",
    "    ale_isd = to_isd(driver)"
   ]
  },
  {
   "cell_type": "code",
   "execution_count": null,
   "id": "aa530588",
   "metadata": {},
   "outputs": [],
   "source": [
    "pprint.pprint(ale_isd)"
   ]
  },
  {
   "cell_type": "code",
   "execution_count": null,
   "id": "f53f8dce-c5a4-49fa-baf3-0fe472f46bdc",
   "metadata": {},
   "outputs": [],
   "source": []
  }
 ],
 "metadata": {
  "kernelspec": {
   "display_name": "Python 3 (ipykernel)",
   "language": "python",
   "name": "python3"
  },
  "language_info": {
   "codemirror_mode": {
    "name": "ipython",
    "version": 3
   },
   "file_extension": ".py",
   "mimetype": "text/x-python",
   "name": "python",
   "nbconvert_exporter": "python",
   "pygments_lexer": "ipython3",
   "version": "3.9.16"
  }
 },
 "nbformat": 4,
 "nbformat_minor": 5
}
