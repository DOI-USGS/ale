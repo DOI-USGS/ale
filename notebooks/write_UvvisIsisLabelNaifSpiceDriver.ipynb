{
 "cells": [
  {
   "cell_type": "code",
   "execution_count": 1,
   "id": "accb1a2f",
   "metadata": {},
   "outputs": [],
   "source": [
    "import os\n",
    "import spiceypy as spice\n",
    "import json\n",
    "import numpy as np\n",
    "import pvl\n",
    "\n",
    "import ale\n",
    "from ale.base import Driver\n",
    "from ale.base.label_isis import IsisLabel\n",
    "from ale.base.data_naif import NaifSpice\n",
    "from ale.base.type_distortion import RadialDistortion, NoDistortion\n",
    "from ale.base.type_sensor import Framer, LineScanner\n",
    "from ale.drivers.uvvis_drivers import UvvisIsisLabelNaifSpiceDriver\n",
    "from ale.util import generate_kernels_from_cube\n",
    "from ale.base.type_sensor import Framer\n",
    "from ale.base.type_distortion import NoDistortion\n",
    "\n",
    "from ale import util\n",
    "from ale.util import generate_kernels_from_cube\n",
    "from ale.formatters.formatter import to_isd"
   ]
  },
  {
   "cell_type": "code",
   "execution_count": 2,
   "id": "0d88ed00",
   "metadata": {},
   "outputs": [],
   "source": [
    "os.environ[\"ISISDATA\"] = \"/Users/ahibl/isisdata/isis_data\"\n",
    "os.environ[\"ISISTESTDATA\"] = \"Volumes/pkgs/isis3_old/isis_testData/\"\n",
    "os.environ[\"ISISROOT\"] = \"/Users/ahibl/Projects/ISIS3/build/\""
   ]
  },
  {
   "cell_type": "code",
   "execution_count": 3,
   "id": "4e3f8e49",
   "metadata": {},
   "outputs": [],
   "source": [
    "#!spiceinit from=/Users/ahibl/astro_efs/test_imgs/uvvis/2.clem.cub"
   ]
  },
  {
   "cell_type": "code",
   "execution_count": 4,
   "id": "7cd23481",
   "metadata": {},
   "outputs": [
    {
     "data": {
      "text/plain": [
       "['/Users/ahibl/isisdata/isis_data/base/kernels/spk/de430.bsp',\n",
       " '/Users/ahibl/isisdata/isis_data/clementine1/kernels/spk/SPKMERGE_940219_940504_CLEMV001b.bsp',\n",
       " '/Users/ahibl/isisdata/isis_data/clementine1/kernels/ck/clem_2mn.bck',\n",
       " '/Users/ahibl/isisdata/isis_data/clementine1/kernels/ck/clem_5sc.bck',\n",
       " '/Users/ahibl/isisdata/isis_data/clementine1/kernels/fk/clem_v12.tf',\n",
       " '/Users/ahibl/isisdata/isis_data/base/kernels/pck/pck00009.tpc',\n",
       " '/Users/ahibl/isisdata/isis_data/base/kernels/pck/lunar_de403_1950-2199_pa.bpc',\n",
       " '/Users/ahibl/isisdata/isis_data/base/kernels/fk/lunarMeanEarth001.tf',\n",
       " '/Users/ahibl/isisdata/isis_data/clementine1/kernels/ik/clem_uvvis_beta_ik_v04.ti',\n",
       " '/Users/ahibl/isisdata/isis_data/base/kernels/lsk/naif0012.tls',\n",
       " '/Users/ahibl/isisdata/isis_data/clementine1/kernels/sclk/dspse002.tsc',\n",
       " '/Users/ahibl/isisdata/isis_data/clementine1/kernels/iak/uvvisAddendum004.ti']"
      ]
     },
     "execution_count": 4,
     "metadata": {},
     "output_type": "execute_result"
    }
   ],
   "source": [
    "# Generate kernels from an ISIS spiceinit'd label\n",
    "cube = \"/Users/ahibl/astro_efs/test_imgs/uvvis/6.clem.cub\"\n",
    "kernels = generate_kernels_from_cube(cube, expand=True, format_as='list')\n",
    "kernels"
   ]
  },
  {
   "cell_type": "code",
   "execution_count": 6,
   "id": "94fe9e7b",
   "metadata": {},
   "outputs": [],
   "source": [
    "ale_file = \"/Users/ahibl/astro_efs/test_imgs/uvvis/6.clem.cub\"\n",
    "\n",
    "with UvvisIsisLabelNaifSpiceDriver(ale_file, props = {\"kernels\" : kernels}) as driver: \n",
    "    ale_isd = to_isd(driver)"
   ]
  },
  {
   "cell_type": "code",
   "execution_count": null,
   "id": "a06a7928",
   "metadata": {},
   "outputs": [],
   "source": [
    "with UvvisIsisLabelNaifSpiceDriver(ale_file, props = {\"kernels\" : kernels}) as driver:\n",
    "    #print(driver.spacecraft_name)\n",
    "    #print(driver.target_name)\n",
    "    #print(spice.bodc2s(-40000))\n",
    "    #print(spice.bodc2s(-40022))\n"
   ]
  },
  {
   "cell_type": "code",
   "execution_count": 12,
   "id": "aa530588",
   "metadata": {},
   "outputs": [
    {
     "name": "stdout",
     "output_type": "stream",
     "text": [
      "{'body_rotation': {'angular_velocities': array([[ 5.99530881e-08, -1.09436677e-06,  2.42538695e-06]]),\n",
      "                   'ck_table_end_time': -182119471.55935162,\n",
      "                   'ck_table_original_size': 1,\n",
      "                   'ck_table_start_time': -182119471.55935162,\n",
      "                   'constant_frames': [310001, 310003, 310000, 310002],\n",
      "                   'constant_rotation': array([ 9.99999879e-01, -3.09789127e-04,  3.83375136e-04,  3.09789422e-04,\n",
      "        9.99999952e-01, -7.08797550e-07, -3.83374898e-04,  8.27563025e-07,\n",
      "        9.99999927e-01]),\n",
      "                   'ephemeris_times': array([-1.82119472e+08]),\n",
      "                   'quaternions': array([[-0.96885657,  0.20669766,  0.03957169, -0.13048796]]),\n",
      "                   'reference_frame': 1,\n",
      "                   'time_dependent_frames': [310002, 1]},\n",
      " 'center_ephemeris_time': -182119471.55935162,\n",
      " 'detector_center': {'line': 144.5, 'sample': 192.5},\n",
      " 'detector_line_summing': 1,\n",
      " 'detector_sample_summing': 1,\n",
      " 'focal2pixel_lines': [0.0, 0.0, 43.47826087],\n",
      " 'focal2pixel_samples': [0.0, 43.47826087, 0.0],\n",
      " 'focal_length_model': {'focal_length': 89.991267},\n",
      " 'image_lines': 288,\n",
      " 'image_samples': 384,\n",
      " 'instrument_pointing': {'angular_velocities': array([[-0.0002373 , -0.0006268 , -0.00056768]]),\n",
      "                         'ck_table_end_time': -182119471.55935162,\n",
      "                         'ck_table_original_size': 1,\n",
      "                         'ck_table_start_time': -182119471.55935162,\n",
      "                         'constant_frames': [-40024, -40002, -40000],\n",
      "                         'constant_rotation': array([-0.00610861, -0.99996607, -0.00552617,  0.99998079, -0.00610273,\n",
      "       -0.00108096,  0.0010472 , -0.00553266,  0.99998415]),\n",
      "                         'ephemeris_times': array([-1.82119472e+08]),\n",
      "                         'quaternions': array([[-0.75291066,  0.17889382, -0.62302477, -0.11385374]]),\n",
      "                         'reference_frame': 1,\n",
      "                         'time_dependent_frames': [-40000, 1]},\n",
      " 'instrument_position': {'ephemeris_times': [-182119471.55935162],\n",
      "                         'positions': array([[2167.84683462,  280.30693287, -348.93804041]]),\n",
      "                         'reference_frame': 1,\n",
      "                         'spk_table_end_time': -182119471.55935162,\n",
      "                         'spk_table_original_size': 1,\n",
      "                         'spk_table_start_time': -182119471.55935162,\n",
      "                         'velocities': array([[ 0.48348205, -0.65563675,  1.52661821]])},\n",
      " 'isis_camera_version': 1,\n",
      " 'naif_keywords': {'BODY301_LONG_AXIS': 0.0,\n",
      "                   'BODY301_NUT_PREC_DEC': array([ 1.5419e+00,  2.3900e-02, -2.7800e-02,  6.8000e-03,  0.0000e+00,\n",
      "       -2.9000e-03,  9.0000e-04,  0.0000e+00,  0.0000e+00,  8.0000e-04]),\n",
      "                   'BODY301_NUT_PREC_PM': array([ 3.561e+00,  1.208e-01, -6.420e-02,  1.580e-02,  2.520e-02,\n",
      "       -6.600e-03, -4.700e-03, -4.600e-03,  2.800e-03,  5.200e-03]),\n",
      "                   'BODY301_NUT_PREC_RA': array([-3.8787, -0.1204,  0.07  , -0.0172,  0.    ,  0.0072,  0.    ,\n",
      "        0.    ,  0.    , -0.0052]),\n",
      "                   'BODY301_PM': array([ 3.83213000e+01,  1.31763582e+01, -1.40000000e-12]),\n",
      "                   'BODY301_POLE_DEC': array([6.65392e+01, 1.30000e-02, 0.00000e+00]),\n",
      "                   'BODY301_POLE_RA': array([2.699949e+02, 3.100000e-03, 0.000000e+00]),\n",
      "                   'BODY301_RADII': array([1737.4, 1737.4, 1737.4]),\n",
      "                   'BODY_CODE': 301,\n",
      "                   'BODY_FRAME_CODE': 310001,\n",
      "                   'FRAME_-40024_CENTER': -40.0,\n",
      "                   'FRAME_-40024_CLASS': 4.0,\n",
      "                   'FRAME_-40024_CLASS_ID': -40024.0,\n",
      "                   'FRAME_-40024_NAME': 'CLEM_UVVIS_D',\n",
      "                   'INS-40024_BORESIGHT': array([0., 0., 1.]),\n",
      "                   'INS-40024_BORESIGHT_LINE': 144.5,\n",
      "                   'INS-40024_BORESIGHT_SAMPLE': 192.5,\n",
      "                   'INS-40024_CCD_CENTER': array([512.5, 512.5]),\n",
      "                   'INS-40024_CK_FRAME_ID': -40002.0,\n",
      "                   'INS-40024_CK_REFERENCE_ID': -40000.0,\n",
      "                   'INS-40024_CK_TIME_BIAS': 0.0,\n",
      "                   'INS-40024_CK_TIME_TOLERANCE': 1.0,\n",
      "                   'INS-40024_DECENTER': array([ 1.414502e-05, -1.372645e-04]),\n",
      "                   'INS-40024_F/RATIO': -999.9999,\n",
      "                   'INS-40024_FILTER_BANDCENTER': 950.0,\n",
      "                   'INS-40024_FILTER_BANDWIDTH': 30.0,\n",
      "                   'INS-40024_FILTER_NAME': 'D',\n",
      "                   'INS-40024_FOCAL_LENGTH': 89.991267,\n",
      "                   'INS-40024_FOV_ANGLE_UNITS': 'DEGREES',\n",
      "                   'INS-40024_FOV_CLASS_SPEC': 'ANGLES',\n",
      "                   'INS-40024_FOV_CROSS_ANGLE': 2.1085,\n",
      "                   'INS-40024_FOV_FRAME': 'CLEM_UVVIS_D',\n",
      "                   'INS-40024_FOV_REF_ANGLE': 2.8115,\n",
      "                   'INS-40024_FOV_REF_VECTOR': array([1., 0., 0.]),\n",
      "                   'INS-40024_FOV_SHAPE': 'RECTANGLE',\n",
      "                   'INS-40024_IFOV': -999.999,\n",
      "                   'INS-40024_ITRANSL': array([ 0.        ,  0.        , 43.47826087]),\n",
      "                   'INS-40024_ITRANSS': array([ 0.        , 43.47826087,  0.        ]),\n",
      "                   'INS-40024_LIGHTTIME_CORRECTION': 'NONE',\n",
      "                   'INS-40024_LT_SURFACE_CORRECT': 'TRUE',\n",
      "                   'INS-40024_OD_K': array([ 0.000000e+00, -2.398624e-05,  0.000000e+00]),\n",
      "                   'INS-40024_PIXEL_LINES': 288.0,\n",
      "                   'INS-40024_PIXEL_PITCH': 0.023,\n",
      "                   'INS-40024_PIXEL_SAMPLES': 384.0,\n",
      "                   'INS-40024_PIXEL_SIZE': array([0.023, 0.023]),\n",
      "                   'INS-40024_PLATFORM_ID': -40000.0,\n",
      "                   'INS-40024_PP': array([0., 0.]),\n",
      "                   'INS-40024_SPK_TIME_BIAS': 0.0,\n",
      "                   'INS-40024_SWAP_OBSERVER_TARGET': 'TRUE',\n",
      "                   'INS-40024_TRANSX': array([0.   , 0.023, 0.   ]),\n",
      "                   'INS-40024_TRANSY': array([0.   , 0.   , 0.023]),\n",
      "                   'OBJECT_301_FRAME': 'LUNAR_MEAN_EARTH',\n",
      "                   'TKFRAME_-40024_ANGLES': array([-5.53269373e-03, -1.04719755e-03,  1.57690498e+00]),\n",
      "                   'TKFRAME_-40024_AXES': array([1., 2., 3.]),\n",
      "                   'TKFRAME_-40024_RELATIVE': 'CLEM_UVVIS',\n",
      "                   'TKFRAME_-40024_SPEC': 'ANGLES',\n",
      "                   'TKFRAME_-40024_UNITS': 'RADIANS'},\n",
      " 'name_model': 'USGS_ASTRO_FRAME_SENSOR_MODEL',\n",
      " 'name_platform': 'CLEMENTINE 1',\n",
      " 'name_sensor': 'CLEM_UVVIS_D',\n",
      " 'optical_distortion': {'radial': {'coefficients': [0.0, 0.0, 0.0]}},\n",
      " 'radii': {'semimajor': 1737.4, 'semiminor': 1737.4, 'unit': 'km'},\n",
      " 'reference_height': {'maxheight': 1000, 'minheight': -1000, 'unit': 'm'},\n",
      " 'starting_detector_line': 0,\n",
      " 'starting_detector_sample': 0,\n",
      " 'sun_position': {'ephemeris_times': [-182119471.55935162],\n",
      "                  'positions': array([[1.49015812e+08, 1.13700722e+07, 4.96372405e+06]]),\n",
      "                  'reference_frame': 1,\n",
      "                  'spk_table_end_time': -182119471.55935162,\n",
      "                  'spk_table_original_size': 1,\n",
      "                  'spk_table_start_time': -182119471.55935162,\n",
      "                  'velocities': array([[-1.68597577, 28.27644994, 12.2297626 ]])}}\n"
     ]
    }
   ],
   "source": [
    "import pprint\n",
    "\n",
    "pprint.pprint(ale_isd)"
   ]
  },
  {
   "cell_type": "code",
   "execution_count": null,
   "id": "2c05f466",
   "metadata": {},
   "outputs": [],
   "source": []
  }
 ],
 "metadata": {
  "kernelspec": {
   "display_name": "Python 3 (ipykernel)",
   "language": "python",
   "name": "python3"
  },
  "language_info": {
   "codemirror_mode": {
    "name": "ipython",
    "version": 3
   },
   "file_extension": ".py",
   "mimetype": "text/x-python",
   "name": "python",
   "nbconvert_exporter": "python",
   "pygments_lexer": "ipython3",
   "version": "3.9.16"
  }
 },
 "nbformat": 4,
 "nbformat_minor": 5
}
