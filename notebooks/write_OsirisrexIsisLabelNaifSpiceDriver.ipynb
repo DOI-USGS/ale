{
 "cells": [
  {
   "cell_type": "code",
   "execution_count": 1,
   "metadata": {},
   "outputs": [],
   "source": [
    "fileName = '/osirisrex/tsts/mapcam/truth/20190303T100344S990_map_iofL2pan_V001-spiceinit.cub'\n",
    "\n",
    "import os\n",
    "os.environ[\"ISISDATA\"] = \"/isis3/isis_data\"\n",
    "os.environ[\"ISISTESTDATA\"] = \"/pkgs/isis_testData\"\n",
    "os.environ[\"ISISROOT\"] = \"/isis/ISIS3/build\"\n",
    "\n",
    "import ale \n",
    "from ale.drivers.osirisrex_drivers import OsirisRexCameraIsisLabelNaifSpiceDriver\n",
    "from ale.formatters.formatter import to_isd\n",
    "import spiceypy as spice\n",
    "from ale.drivers import AleJsonEncoder"
   ]
  },
  {
   "cell_type": "code",
   "execution_count": 2,
   "metadata": {},
   "outputs": [
    {
     "name": "stdout",
     "output_type": "stream",
     "text": [
      "['/Volumes/pkgs/isis3/isis_data/osirisrex/kernels/tspk/de424.bsp', '/Volumes/pkgs/isis3/isis_data/osirisrex/kernels/tspk/bennu_refdrmc_v1.bsp', '/Volumes/pkgs/isis3/isis_data/osirisrex/kernels/tspk/sb-101955-76.bsp', '/Volumes/pkgs/isis3/isis_data/osirisrex/kernels/pck/pck00010.tpc', '/Volumes/pkgs/isis3/isis_data/osirisrex/kernels/spk/orx_190301_190424_190412_od125_v1.bsp', '/Volumes/pkgs/isis3/isis_data/osirisrex/kernels/ck/orx_sc_rel_190225_190303_v01.bc', '/Volumes/pkgs/isis3/isis_data/osirisrex/kernels/fk/orx_v14.tf', '/Volumes/pkgs/isis3/isis_data/osirisrex/kernels/pck/bennu_v16.tpc', '/Volumes/pkgs/isis3/isis_data/osirisrex/kernels/iak/orex_ocams_addendum_v10.ti', '/Volumes/pkgs/isis3/isis_data/base/kernels/lsk/naif0012.tls', '/Volumes/pkgs/isis3/isis_data/osirisrex/kernels/sclk/orx_sclkscet_00065.tsc', '/Volumes/pkgs/isis3/isis_data/osirisrex/kernels/ik/orx_ocams_v07.ti', '/Volumes/pkgs/isis3/isis_data/osirisrex/kernels/fk/orx_struct_mapcam_v01.bc']\n"
     ]
    }
   ],
   "source": [
    "from ale.util import generate_kernels_from_cube\n",
    "kernels = generate_kernels_from_cube(fileName, expand=True, format_as='list')"
   ]
  },
  {
   "cell_type": "code",
   "execution_count": 3,
   "metadata": {
    "scrolled": false
   },
   "outputs": [
    {
     "name": "stdout",
     "output_type": "stream",
     "text": [
      "-64000\n",
      "10106\n",
      "604882849.4327942\n",
      "[604882849.4327942]\n",
      "False\n",
      "INS-64361_FOCAL_LENGTH\n"
     ]
    }
   ],
   "source": [
    "with OsirisRexCameraIsisLabelNaifSpiceDriver(fileName, props = {\"kernels\": kernels}) as driver:\n",
    "    isisString = to_isd(driver)"
   ]
  },
  {
   "cell_type": "code",
   "execution_count": 4,
   "metadata": {},
   "outputs": [
    {
     "data": {
      "text/plain": [
       "{'isis_camera_version': 1,\n",
       " 'image_lines': 1024,\n",
       " 'image_samples': 1024,\n",
       " 'name_platform': 'OSIRIS-REX',\n",
       " 'name_sensor': 'MapCam',\n",
       " 'reference_height': {'maxheight': 1000, 'minheight': -1000, 'unit': 'm'},\n",
       " 'name_model': 'USGS_ASTRO_FRAME_SENSOR_MODEL',\n",
       " 'center_ephemeris_time': 604882849.4327942,\n",
       " 'radii': {'semimajor': 0.283065, 'semiminor': 0.24972, 'unit': 'km'},\n",
       " 'body_rotation': {'time_dependent_frames': [10106, 1],\n",
       "  'ck_table_start_time': 604882849.4327942,\n",
       "  'ck_table_end_time': 604882849.4327942,\n",
       "  'ck_table_original_size': 1,\n",
       "  'ephemeris_times': array([6.04882849e+08]),\n",
       "  'quaternions': array([[-0.24468662, -0.89954769,  0.35409441,  0.07456245]]),\n",
       "  'angular_velocities': array([[ 1.59010751e-05,  2.00297808e-04, -3.53102910e-04]]),\n",
       "  'reference_frame': 1},\n",
       " 'instrument_pointing': {'time_dependent_frames': [-64000, 1],\n",
       "  'ck_table_start_time': 604882849.4327942,\n",
       "  'ck_table_end_time': 604882849.4327942,\n",
       "  'ck_table_original_size': 1,\n",
       "  'ephemeris_times': array([6.04882849e+08]),\n",
       "  'quaternions': array([[-0.49481036,  0.46093328, -0.36645924, -0.6390703 ]]),\n",
       "  'angular_velocities': array([[ 5.39505303e-06, -5.10863800e-06,  2.27706378e-06]]),\n",
       "  'reference_frame': 1,\n",
       "  'constant_frames': [-64000],\n",
       "  'constant_rotation': array([1., 0., 0., 0., 1., 0., 0., 0., 1.])},\n",
       " 'naif_keywords': {'BODY2101955_RADII': array([0.283065, 0.271215, 0.24972 ]),\n",
       "  'BODY_FRAME_CODE': 10106,\n",
       "  'BODY_CODE': 2101955,\n",
       "  'INS-64361_TOLERANCE': 1e-10,\n",
       "  'INS-64361_ITRANSL': array([  0.        , 117.64705882,   0.        ]),\n",
       "  'INS-64361_ITRANSS': array([  0.        ,   0.        , 117.64705882]),\n",
       "  'FRAME_-64361_CLASS': 3.0,\n",
       "  'INS-64361_FOCAL_LENGTH': 125.2,\n",
       "  'FRAME_-64361_CENTER': -64.0,\n",
       "  'INS-64361_WAVELENGTH_RANGE': array([440., 890.]),\n",
       "  'CK_-64361_SPK': -64.0,\n",
       "  'INS-64361_OD_CENTER_PAN': array([486.2, 450.3]),\n",
       "  'INS-64361_PIXEL_LINES': 1024.0,\n",
       "  'INS-64361_OD_CENTER_B': array([497.3, 456.8]),\n",
       "  'INS-64361_TRANSX': array([0.    , 0.    , 0.0085]),\n",
       "  'INS-64361_TRANSY': array([0.    , 0.0085, 0.    ]),\n",
       "  'INS-64361_OD_CENTER_V': array([494.3, 473.8]),\n",
       "  'INS-64361_OD_CENTER_W': array([510.3, 461.2]),\n",
       "  'INS-64361_OD_CENTER_X': array([504.5, 450.5]),\n",
       "  'INS-64361_F/NUMBER': 3.295,\n",
       "  'INS-64361_LT_SURFACE_CORRECT': 'FALSE',\n",
       "  'INS-64361_FOV_ANGLE_UNITS': 'DEGREES',\n",
       "  'INS-64361_SWAP_OBSERVER_TARGET': 'TRUE',\n",
       "  'INS-64361_FOV_REF_ANGLE': 1.9849999999999999,\n",
       "  'INS-64361_DEBUG_MODEL': 'FALSE',\n",
       "  'INS-64361_BORESIGHT': array([0., 0., 1.]),\n",
       "  'INS-64361_LIGHTTIME_CORRECTION': 'LT+S',\n",
       "  'INS-64361_FOV_CLASS_SPEC': 'ANGLES',\n",
       "  'INS-64361_FOV_REF_VECTOR': array([1., 0., 0.]),\n",
       "  'INS-64361_IFOV': 67.675,\n",
       "  'INS-64361_FOV_CENTER_PIXEL': array([511.5, 511.5]),\n",
       "  'INS-64361_DISTORTION_MODEL': 'OPENCV',\n",
       "  'INS-64361_FOV_SHAPE': 'RECTANGLE',\n",
       "  'INS-64361_FOV_CROSS_ANGLE': 1.9849999999999999,\n",
       "  'INS-64361_PIXEL_SIZE': 8.5,\n",
       "  'INS-64361_FL_UNCERTAINTY': 0.5,\n",
       "  'INS-64361_FOV_FRAME': 'ORX_OCAMS_MAPCAM',\n",
       "  'INS-64361_OD_K_PAN': array([2.21e-05, 1.71e-04, 5.96e-05, 0.00e+00, 0.00e+00]),\n",
       "  'FRAME_-64361_NAME': 'ORX_OCAMS_MAPCAM',\n",
       "  'INS-64361_OD_K_B': array([5.06e-05, 1.63e-04, 6.00e-05, 0.00e+00, 0.00e+00]),\n",
       "  'INS-64361_PIXEL_SAMPLES': 1024.0,\n",
       "  'INS-64361_OD_K_V': array([7.45e-05, 2.20e-04, 6.22e-05, 0.00e+00, 0.00e+00]),\n",
       "  'INS-64361_OD_K_W': array([2.21e-05, 1.32e-04, 6.08e-05, 0.00e+00, 0.00e+00]),\n",
       "  'INS-64361_OD_K_X': array([ 2.44e-05, -3.61e-05,  8.87e-05,  0.00e+00,  0.00e+00]),\n",
       "  'INS-64361_CCD_CENTER': array([511.5, 511.5]),\n",
       "  'FRAME_-64361_CLASS_ID': -64361.0,\n",
       "  'CK_-64361_SCLK': -64.0,\n",
       "  'INS-64361_SPOC_FITS_NAXIS1': array([0., 1., 0.]),\n",
       "  'INS-64361_SPOC_FITS_NAXIS2': array([1., 0., 0.]),\n",
       "  'BODY2101955_PM': array([1.40688350e+02, 2.01114576e+03, 1.81500000e-06]),\n",
       "  'BODY2101955_POLE_DEC': array([-60.3586,   0.    ,   0.    ]),\n",
       "  'BODY2101955_POLE_RA': array([85.46097,  0.     ,  0.     ]),\n",
       "  'BODY2101955_LONG_AXIS': 0.0,\n",
       "  'OBJECT_2101955_FRAME': 'IAU_BENNU'},\n",
       " 'detector_sample_summing': 1,\n",
       " 'detector_line_summing': 1,\n",
       " 'focal_length_model': {'focal_length': 125.2},\n",
       " 'detector_center': {'line': 511.5, 'sample': 511.5},\n",
       " 'focal2pixel_lines': [0.0, 117.64705882353, 0.0],\n",
       " 'focal2pixel_samples': [0.0, 0.0, 117.64705882353],\n",
       " 'optical_distortion': {'radial': {'coefficients': [2.21e-05,\n",
       "    0.000171,\n",
       "    5.96e-05]}},\n",
       " 'starting_detector_line': 0,\n",
       " 'starting_detector_sample': 0,\n",
       " 'instrument_position': {'spk_table_start_time': 604882849.4327942,\n",
       "  'spk_table_end_time': 604882849.4327942,\n",
       "  'spk_table_original_size': 1,\n",
       "  'ephemeris_times': [604882849.4327942],\n",
       "  'positions': array([[ 6.26389626, -0.17789034, -2.05168257]]),\n",
       "  'velocities': array([[-1.63292285e-05,  5.93692784e-06, -2.23279143e-05]]),\n",
       "  'reference_frame': 1},\n",
       " 'sun_position': {'spk_table_start_time': 604882849.4327942,\n",
       "  'spk_table_end_time': 604882849.4327942,\n",
       "  'spk_table_original_size': 1,\n",
       "  'ephemeris_times': [604882849.4327942],\n",
       "  'positions': array([[ 94633635.43566033, -98012563.34059505, -55786970.07370412]]),\n",
       "  'velocities': array([[27.39074527, 14.21556904,  7.91649865]]),\n",
       "  'reference_frame': 1}}"
      ]
     },
     "execution_count": 4,
     "metadata": {},
     "output_type": "execute_result"
    }
   ],
   "source": [
    "isisString"
   ]
  },
  {
   "cell_type": "code",
   "execution_count": 5,
   "metadata": {},
   "outputs": [
    {
     "data": {
      "text/plain": [
       "dict_keys(['isis_camera_version', 'image_lines', 'image_samples', 'name_platform', 'name_sensor', 'reference_height', 'name_model', 'center_ephemeris_time', 'radii', 'body_rotation', 'instrument_pointing', 'naif_keywords', 'detector_sample_summing', 'detector_line_summing', 'focal_length_model', 'detector_center', 'focal2pixel_lines', 'focal2pixel_samples', 'optical_distortion', 'starting_detector_line', 'starting_detector_sample', 'instrument_position', 'sun_position'])"
      ]
     },
     "execution_count": 5,
     "metadata": {},
     "output_type": "execute_result"
    }
   ],
   "source": [
    "import json\n",
    "\n",
    "isis_dict = isisString\n",
    "\n",
    "json_file = os.path.splitext(fileName)[0] + '.json'\n",
    "\n",
    "with open(json_file, 'w') as fp:\n",
    "    json.dump(isis_dict, fp, cls = AleJsonEncoder)\n",
    "    \n",
    "with open(json_file, 'r') as fp:\n",
    "    isis_dict = json.load(fp)\n",
    "    \n",
    "isis_dict.keys()"
   ]
  },
  {
   "cell_type": "code",
   "execution_count": null,
   "metadata": {},
   "outputs": [],
   "source": []
  }
 ],
 "metadata": {
  "kernelspec": {
   "display_name": "Python 3 (ipykernel)",
   "language": "python",
   "name": "python3"
  },
  "language_info": {
   "codemirror_mode": {
    "name": "ipython",
    "version": 3
   },
   "file_extension": ".py",
   "mimetype": "text/x-python",
   "name": "python",
   "nbconvert_exporter": "python",
   "pygments_lexer": "ipython3",
   "version": "3.10.2"
  }
 },
 "nbformat": 4,
 "nbformat_minor": 2
}
