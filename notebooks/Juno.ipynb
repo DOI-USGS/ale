{
 "cells": [
  {
   "cell_type": "code",
   "execution_count": 7,
   "metadata": {},
   "outputs": [],
   "source": [
    "import os\n",
    "import re\n",
    "import subprocess\n",
    "\n",
    "import spiceypy as spice\n",
    "\n",
    "import ale\n",
    "\n",
    "from ale import util\n",
    "\n",
    "from ale.base.data_naif import NaifSpice\n",
    "from ale.base.label_isis import IsisLabel\n",
    "from ale.base.type_sensor import Framer\n",
    "from ale.base.base import Driver\n",
    "\n",
    "from ale.formatters.isis_formatter import to_isis"
   ]
  },
  {
   "cell_type": "code",
   "execution_count": 2,
   "metadata": {},
   "outputs": [],
   "source": [
    "ale_root = os.path.split(ale.__file__)[0]\n",
    "data_root = os.path.join(ale_root, '../tests/pytests/data')\n",
    "dirs = next(os.walk(data_root, topdown=True))[1]\n",
    "dirs = [d for d in dirs if not d.startswith('.')]\n",
    "image_2_data = {}\n",
    "\n",
    "for d in dirs:\n",
    "    tmp = os.path.join(data_root, d)\n",
    "    image_2_data[d] = [os.path.join(tmp, f) for f in os.listdir(tmp) if not f.startswith('.') and os.path.splitext(f)[1] != '.lbl']\n",
    "\n",
    "def get_image_label(image, label_type='pds3'):\n",
    "    if not isinstance(image, str):\n",
    "        try:\n",
    "            image = str(image)\n",
    "        except:\n",
    "            raise KeyError('Cannot coerce requested image name to string')\n",
    "\n",
    "    label_file = glob(os.path.join(data_root, '*',f'{image}_{label_type}.lbl'))\n",
    "    if not label_file:\n",
    "        raise Exception(f'Could not find label file for {image}')\n",
    "\n",
    "    return label_file[0]\n",
    "\n",
    "def get_image_kernels(image):\n",
    "    \"\"\"\n",
    "    Get the kernels to use with a test image.\n",
    "\n",
    "    Parameters\n",
    "    ----------\n",
    "    image : str\n",
    "            The image name to get kernels for. I.E. 'EN1072174528M'\n",
    "\n",
    "    Returns\n",
    "    -------\n",
    "    : list\n",
    "      A list containing the absolute paths to the kernels for the images.\n",
    "      This list contains all of the kernel files available in the test image's\n",
    "      data directory which may contain transfer files that need to be converted\n",
    "      to binary files.\n",
    "    \"\"\"\n",
    "    if not isinstance(image, str):\n",
    "        try:\n",
    "            image = str(image)\n",
    "        except:\n",
    "            raise KeyError('Cannot coerce requested image name to string')\n",
    "    if image in image_2_data:\n",
    "        return image_2_data[image]\n",
    "    else:\n",
    "        raise KeyError('Could not find test data for' + image)\n",
    "\n",
    "def convert_kernels(kernels):\n",
    "    \"\"\"\n",
    "    Convert any transfer kernels in a list to binary kernels\n",
    "\n",
    "    Parameters\n",
    "    ----------\n",
    "    kernels : list\n",
    "              A list of kernels. Only transfer kernels present in the list will\n",
    "              be converted. Non-transfer kernels will be ignored.\n",
    "\n",
    "    Returns\n",
    "    -------\n",
    "    updated_kernels : list\n",
    "                      The updated kernel list where all transfer kernels have\n",
    "                      been replaced with their converted binary kernel. This\n",
    "                      is designed to be passed directly to furnsh.\n",
    "    binary_kernels : list\n",
    "                     The list of binary kernels created.\n",
    "    \"\"\"\n",
    "    binary_kernels = []\n",
    "    updated_kernels = []\n",
    "    for kernel in kernels:\n",
    "        split_kernel = os.path.splitext(kernel)\n",
    "        if 'x' in split_kernel[1].lower():\n",
    "            # Get the full path to the kernel then truncate it to the relative path\n",
    "            path = os.path.join(data_root, kernel)\n",
    "            path = os.path.relpath(path)\n",
    "            bin_output = subprocess.run(['tobin', path],\n",
    "                                        capture_output=True, check=True)\n",
    "            matches = re.search(r'To: (.*\\.b\\w*)', str(bin_output.stdout))\n",
    "            if not matches:\n",
    "                warnings.warn('Failed to convert transfer kernel, ' + kernel + ', skipping...')\n",
    "            else:\n",
    "                kernel = matches.group(1)\n",
    "                binary_kernels.append(kernel)\n",
    "        updated_kernels.append(kernel)\n",
    "    return updated_kernels, binary_kernels"
   ]
  },
  {
   "cell_type": "code",
   "execution_count": 3,
   "metadata": {},
   "outputs": [
    {
     "data": {
      "text/plain": [
       "['../tests/pytests/data/JNCR_2016240_01M06152_V01/ab103105.spice_0.bsp',\n",
       " '../tests/pytests/data/JNCR_2016240_01M06152_V01/ab103105.spice_1.bsp',\n",
       " '../tests/pytests/data/JNCR_2016240_01M06152_V01/JNCR_2016240_01M06152_V01_METHANE_0008_0.bsp',\n",
       " '../tests/pytests/data/JNCR_2016240_01M06152_V01/JNCR_2016240_01M06152_V01_METHANE_0008_1.bsp',\n",
       " '../tests/pytests/data/JNCR_2016240_01M06152_V01/juno_sc_rec_160821_160827_v01_0_sliced_-61000.bc',\n",
       " '../tests/pytests/data/JNCR_2016240_01M06152_V01/juno_sc_rec_160821_160827_v01_1_sliced_-61000.bc',\n",
       " '../tests/pytests/data/JNCR_2016240_01M06152_V01/mgs_sc_ab1_0_sliced_-94000.bc',\n",
       " '../tests/pytests/data/JNCR_2016240_01M06152_V01/mgs_sc_ab1_1_sliced_-94000.bc',\n",
       " '/home/acpaquette/repos/ale/ale/../tests/pytests/data/JNCR_2016240_01M06152_V01/print.prt',\n",
       " '/home/acpaquette/repos/ale/ale/../tests/pytests/data/JNCR_2016240_01M06152_V01/naif0012.tls',\n",
       " '/home/acpaquette/repos/ale/ale/../tests/pytests/data/JNCR_2016240_01M06152_V01/pck00010.tpc',\n",
       " '/home/acpaquette/repos/ale/ale/../tests/pytests/data/JNCR_2016240_01M06152_V01/juno_v12.tf',\n",
       " '/home/acpaquette/repos/ale/ale/../tests/pytests/data/JNCR_2016240_01M06152_V01/juno_junocam_v03.ti',\n",
       " '/home/acpaquette/repos/ale/ale/../tests/pytests/data/JNCR_2016240_01M06152_V01/jno_sclkscet_00090.tsc',\n",
       " '/home/acpaquette/repos/ale/ale/../tests/pytests/data/JNCR_2016240_01M06152_V01/junoAddendum005.ti']"
      ]
     },
     "execution_count": 3,
     "metadata": {},
     "output_type": "execute_result"
    }
   ],
   "source": [
    "file = '/home/acpaquette/repos/ale/tests/pytests/data/JNCR_2016240_01M06152_V01/JNCR_2016240_01M06152_V01_METHANE_0008_isis.lbl'\n",
    "kernels = get_image_kernels('JNCR_2016240_01M06152_V01')\n",
    "updated_kernels, binary_kernels = convert_kernels(kernels)\n",
    "updated_kernels"
   ]
  },
  {
   "cell_type": "code",
   "execution_count": 35,
   "metadata": {},
   "outputs": [],
   "source": [
    "class juno_test(Framer, IsisLabel, NaifSpice, Driver):\n",
    "    \n",
    "    @property\n",
    "    def instrument_id(self):\n",
    "        look_up = {'JNC': 'JUNO_JUNOCAM'}\n",
    "        return look_up[super().instrument_id]\n",
    "    \n",
    "    @property\n",
    "    def sensor_model_version(self):\n",
    "        return 1"
   ]
  },
  {
   "cell_type": "code",
   "execution_count": 36,
   "metadata": {},
   "outputs": [
    {
     "name": "stdout",
     "output_type": "stream",
     "text": [
      "JUNOCAM\n"
     ]
    },
    {
     "ename": "SpiceyError",
     "evalue": "Spice returns not found for function: bods2c",
     "output_type": "error",
     "traceback": [
      "\u001b[0;31m---------------------------------------------------------------------------\u001b[0m",
      "\u001b[0;31mSpiceyError\u001b[0m                               Traceback (most recent call last)",
      "\u001b[0;32m<ipython-input-36-8517da790b6f>\u001b[0m in \u001b[0;36m<module>\u001b[0;34m\u001b[0m\n\u001b[1;32m      1\u001b[0m \u001b[0;32mwith\u001b[0m \u001b[0mjuno_test\u001b[0m\u001b[0;34m(\u001b[0m\u001b[0mfile\u001b[0m\u001b[0;34m,\u001b[0m \u001b[0mprops\u001b[0m\u001b[0;34m=\u001b[0m\u001b[0;34m{\u001b[0m\u001b[0;34m'kernels'\u001b[0m\u001b[0;34m:\u001b[0m \u001b[0mupdated_kernels\u001b[0m\u001b[0;34m}\u001b[0m\u001b[0;34m)\u001b[0m \u001b[0;32mas\u001b[0m \u001b[0mdriver\u001b[0m\u001b[0;34m:\u001b[0m\u001b[0;34m\u001b[0m\u001b[0;34m\u001b[0m\u001b[0m\n\u001b[1;32m      2\u001b[0m     \u001b[0mprint\u001b[0m\u001b[0;34m(\u001b[0m\u001b[0mdriver\u001b[0m\u001b[0;34m.\u001b[0m\u001b[0minstrument_id\u001b[0m\u001b[0;34m)\u001b[0m\u001b[0;34m\u001b[0m\u001b[0;34m\u001b[0m\u001b[0m\n\u001b[0;32m----> 3\u001b[0;31m     \u001b[0mprint\u001b[0m\u001b[0;34m(\u001b[0m\u001b[0mdriver\u001b[0m\u001b[0;34m.\u001b[0m\u001b[0mikid\u001b[0m\u001b[0;34m)\u001b[0m\u001b[0;34m\u001b[0m\u001b[0;34m\u001b[0m\u001b[0m\n\u001b[0m\u001b[1;32m      4\u001b[0m     \u001b[0mprint\u001b[0m\u001b[0;34m(\u001b[0m\u001b[0mdriver\u001b[0m\u001b[0;34m.\u001b[0m\u001b[0msensor_frame_id\u001b[0m\u001b[0;34m)\u001b[0m\u001b[0;34m\u001b[0m\u001b[0;34m\u001b[0m\u001b[0m\n\u001b[1;32m      5\u001b[0m     \u001b[0mprint\u001b[0m\u001b[0;34m(\u001b[0m\u001b[0mdriver\u001b[0m\u001b[0;34m.\u001b[0m\u001b[0mtarget_frame_id\u001b[0m\u001b[0;34m)\u001b[0m\u001b[0;34m\u001b[0m\u001b[0;34m\u001b[0m\u001b[0m\n",
      "\u001b[0;32m~/repos/ale/ale/base/data_naif.py\u001b[0m in \u001b[0;36mikid\u001b[0;34m(self)\u001b[0m\n\u001b[1;32m    121\u001b[0m           \u001b[0mNaif\u001b[0m \u001b[0mID\u001b[0m \u001b[0mused\u001b[0m \u001b[0mto\u001b[0m \u001b[0;32mfor\u001b[0m \u001b[0mindentifying\u001b[0m \u001b[0mthe\u001b[0m \u001b[0minstrument\u001b[0m \u001b[0;32min\u001b[0m \u001b[0mSpice\u001b[0m \u001b[0mkernels\u001b[0m\u001b[0;34m\u001b[0m\u001b[0;34m\u001b[0m\u001b[0m\n\u001b[1;32m    122\u001b[0m         \"\"\"\n\u001b[0;32m--> 123\u001b[0;31m         \u001b[0;32mreturn\u001b[0m \u001b[0mspice\u001b[0m\u001b[0;34m.\u001b[0m\u001b[0mbods2c\u001b[0m\u001b[0;34m(\u001b[0m\u001b[0mself\u001b[0m\u001b[0;34m.\u001b[0m\u001b[0minstrument_id\u001b[0m\u001b[0;34m)\u001b[0m\u001b[0;34m\u001b[0m\u001b[0;34m\u001b[0m\u001b[0m\n\u001b[0m\u001b[1;32m    124\u001b[0m \u001b[0;34m\u001b[0m\u001b[0m\n\u001b[1;32m    125\u001b[0m     \u001b[0;34m@\u001b[0m\u001b[0mproperty\u001b[0m\u001b[0;34m\u001b[0m\u001b[0;34m\u001b[0m\u001b[0m\n",
      "\u001b[0;32m/work/users/acpaquette/miniconda3/envs/ale_env/lib/python3.7/site-packages/spiceypy/spiceypy.py\u001b[0m in \u001b[0;36mwith_errcheck\u001b[0;34m(*args, **kwargs)\u001b[0m\n\u001b[1;32m     75\u001b[0m     \u001b[0;32mdef\u001b[0m \u001b[0mwith_errcheck\u001b[0m\u001b[0;34m(\u001b[0m\u001b[0;34m*\u001b[0m\u001b[0margs\u001b[0m\u001b[0;34m,\u001b[0m \u001b[0;34m**\u001b[0m\u001b[0mkwargs\u001b[0m\u001b[0;34m)\u001b[0m\u001b[0;34m:\u001b[0m\u001b[0;34m\u001b[0m\u001b[0;34m\u001b[0m\u001b[0m\n\u001b[1;32m     76\u001b[0m         \u001b[0;32mtry\u001b[0m\u001b[0;34m:\u001b[0m\u001b[0;34m\u001b[0m\u001b[0;34m\u001b[0m\u001b[0m\n\u001b[0;32m---> 77\u001b[0;31m             \u001b[0mres\u001b[0m \u001b[0;34m=\u001b[0m \u001b[0mf\u001b[0m\u001b[0;34m(\u001b[0m\u001b[0;34m*\u001b[0m\u001b[0margs\u001b[0m\u001b[0;34m,\u001b[0m \u001b[0;34m**\u001b[0m\u001b[0mkwargs\u001b[0m\u001b[0;34m)\u001b[0m\u001b[0;34m\u001b[0m\u001b[0;34m\u001b[0m\u001b[0m\n\u001b[0m\u001b[1;32m     78\u001b[0m             \u001b[0mcheckForSpiceError\u001b[0m\u001b[0;34m(\u001b[0m\u001b[0mf\u001b[0m\u001b[0;34m)\u001b[0m\u001b[0;34m\u001b[0m\u001b[0;34m\u001b[0m\u001b[0m\n\u001b[1;32m     79\u001b[0m             \u001b[0;32mreturn\u001b[0m \u001b[0mres\u001b[0m\u001b[0;34m\u001b[0m\u001b[0;34m\u001b[0m\u001b[0m\n",
      "\u001b[0;32m/work/users/acpaquette/miniconda3/envs/ale_env/lib/python3.7/site-packages/spiceypy/spiceypy.py\u001b[0m in \u001b[0;36mwrapper\u001b[0;34m(*args, **kwargs)\u001b[0m\n\u001b[1;32m     94\u001b[0m             \u001b[0mfound\u001b[0m \u001b[0;34m=\u001b[0m \u001b[0mres\u001b[0m\u001b[0;34m[\u001b[0m\u001b[0;34m-\u001b[0m\u001b[0;36m1\u001b[0m\u001b[0;34m]\u001b[0m\u001b[0;34m\u001b[0m\u001b[0;34m\u001b[0m\u001b[0m\n\u001b[1;32m     95\u001b[0m             \u001b[0;32mif\u001b[0m \u001b[0misinstance\u001b[0m\u001b[0;34m(\u001b[0m\u001b[0mfound\u001b[0m\u001b[0;34m,\u001b[0m \u001b[0mbool\u001b[0m\u001b[0;34m)\u001b[0m \u001b[0;32mand\u001b[0m \u001b[0;32mnot\u001b[0m \u001b[0mfound\u001b[0m\u001b[0;34m:\u001b[0m\u001b[0;34m\u001b[0m\u001b[0;34m\u001b[0m\u001b[0m\n\u001b[0;32m---> 96\u001b[0;31m                 \u001b[0;32mraise\u001b[0m \u001b[0mstypes\u001b[0m\u001b[0;34m.\u001b[0m\u001b[0mSpiceyError\u001b[0m\u001b[0;34m(\u001b[0m\u001b[0;34m\"Spice returns not found for function: {}\"\u001b[0m\u001b[0;34m.\u001b[0m\u001b[0mformat\u001b[0m\u001b[0;34m(\u001b[0m\u001b[0mf\u001b[0m\u001b[0;34m.\u001b[0m\u001b[0m__name__\u001b[0m\u001b[0;34m)\u001b[0m\u001b[0;34m,\u001b[0m \u001b[0mfound\u001b[0m\u001b[0;34m=\u001b[0m\u001b[0mfound\u001b[0m\u001b[0;34m)\u001b[0m\u001b[0;34m\u001b[0m\u001b[0;34m\u001b[0m\u001b[0m\n\u001b[0m\u001b[1;32m     97\u001b[0m             \u001b[0;32melif\u001b[0m \u001b[0mhasattr\u001b[0m\u001b[0;34m(\u001b[0m\u001b[0mfound\u001b[0m\u001b[0;34m,\u001b[0m \u001b[0;34m'__iter__'\u001b[0m\u001b[0;34m)\u001b[0m \u001b[0;32mand\u001b[0m \u001b[0;32mnot\u001b[0m \u001b[0mall\u001b[0m\u001b[0;34m(\u001b[0m\u001b[0mfound\u001b[0m\u001b[0;34m)\u001b[0m\u001b[0;34m:\u001b[0m\u001b[0;34m\u001b[0m\u001b[0;34m\u001b[0m\u001b[0m\n\u001b[1;32m     98\u001b[0m                 \u001b[0;32mraise\u001b[0m \u001b[0mstypes\u001b[0m\u001b[0;34m.\u001b[0m\u001b[0mSpiceyError\u001b[0m\u001b[0;34m(\u001b[0m\u001b[0;34m\"Spice returns not found in a series of calls for function: {}\"\u001b[0m\u001b[0;34m.\u001b[0m\u001b[0mformat\u001b[0m\u001b[0;34m(\u001b[0m\u001b[0mf\u001b[0m\u001b[0;34m.\u001b[0m\u001b[0m__name__\u001b[0m\u001b[0;34m)\u001b[0m\u001b[0;34m,\u001b[0m \u001b[0mfound\u001b[0m\u001b[0;34m=\u001b[0m\u001b[0mfound\u001b[0m\u001b[0;34m)\u001b[0m\u001b[0;34m\u001b[0m\u001b[0;34m\u001b[0m\u001b[0m\n",
      "\u001b[0;31mSpiceyError\u001b[0m: Spice returns not found for function: bods2c"
     ]
    }
   ],
   "source": [
    "with juno_test(file, props={'kernels': updated_kernels}) as driver:\n",
    "    print(driver.instrument_id)\n",
    "    print(driver.ikid)\n",
    "    print(driver.sensor_frame_id)\n",
    "    print(driver.target_frame_id)\n",
    "    print(to_isis(driver))"
   ]
  },
  {
   "cell_type": "code",
   "execution_count": null,
   "metadata": {},
   "outputs": [],
   "source": []
  }
 ],
 "metadata": {
  "kernelspec": {
   "display_name": "ale_env",
   "language": "python",
   "name": "ale_env"
  },
  "language_info": {
   "codemirror_mode": {
    "name": "ipython",
    "version": 3
   },
   "file_extension": ".py",
   "mimetype": "text/x-python",
   "name": "python",
   "nbconvert_exporter": "python",
   "pygments_lexer": "ipython3",
   "version": "3.7.1"
  }
 },
 "nbformat": 4,
 "nbformat_minor": 2
}
