{
 "cells": [
  {
   "cell_type": "code",
   "execution_count": 1,
   "metadata": {},
   "outputs": [],
   "source": [
    "#pragma cling add_include_path(\"/home/krodriguez/repos/ale/include/\")\n",
    "#pragma cling add_include_path(\"/home/krodriguez/repos/ale/include/json\")\n",
    "#pragma cling add_include_path(\"/data/big/anaconda3/envs/ale/include/python3.7m\")\n",
    "\n",
    "#pragma cling load(\"/home/krodriguez/repos/ale/build/libale.so\")"
   ]
  },
  {
   "cell_type": "code",
   "execution_count": 2,
   "metadata": {},
   "outputs": [],
   "source": [
    "#include \"Python.h\"\n",
    "#include \"ale.h\"\n",
    "\n",
    "#include <iostream>\n",
    "#include <string.h>\n",
    "\n",
    "std::string test_lro_label =\n",
    "        \"PDS_VERSION_ID                     = PDS3\\n\"\n",
    "        \"\\n\"\n",
    "        \"/*FILE CHARACTERISTICS*/\\n\"\n",
    "        \"RECORD_TYPE                        = FIXED_LENGTH\\n\"\n",
    "        \"RECORD_BYTES                       = 5064\\n\"\n",
    "        \"FILE_RECORDS                       = 13313\\n\"\n",
    "        \"LABEL_RECORDS                      = 1\\n\"\n",
    "        \"^IMAGE                             = 2\\n\"\n",
    "        \"\\n\"\n",
    "        \"/*DATA IDENTIFICATION*/\\n\"\n",
    "        \"DATA_SET_ID                        = \\\"LRO-L-LROC-2-EDR-V1.0\\\"\\n\"\n",
    "        \"ORIGINAL_PRODUCT_ID                = nacl0002fc60\\n\"\n",
    "        \"PRODUCT_ID                         = M128963531LE\\n\"\n",
    "        \"MISSION_NAME                       = \\\"LUNAR RECONNAISSANCE ORBITER\\\"\\n\"\n",
    "        \"MISSION_PHASE_NAME                 = \\\"NOMINAL MISSION\\\"\\n\"\n",
    "        \"INSTRUMENT_HOST_NAME               = \\\"LUNAR RECONNAISSANCE ORBITER\\\"\\n\"\n",
    "        \"INSTRUMENT_HOST_ID                 = LRO\\n\"\n",
    "        \"INSTRUMENT_NAME                    = \\\"LUNAR RECONNAISSANCE ORBITER CAMERA\\\"\\n\"\n",
    "        \"INSTRUMENT_ID                      = LROC\\n\"\n",
    "        \"LRO:PREROLL_TIME                   = 2010-05-20T02:57:44.373\\n\"\n",
    "        \"START_TIME                         = 2010-05-20T02:57:44.720\\n\"\n",
    "        \"STOP_TIME                          = 2010-05-20T02:57:49.235\\n\"\n",
    "        \"LRO:SPACECRAFT_CLOCK_PREROLL_COUNT = \\\"1/296017064:22937\\\"\\n\"\n",
    "        \"SPACECRAFT_CLOCK_START_COUNT       = \\\"1/296017064:45694\\\"\\n\"\n",
    "        \"SPACECRAFT_CLOCK_STOP_COUNT        = \\\"1/296017069:13866\\\"\\n\"\n",
    "        \"ORBIT_NUMBER                       = 4138\\n\"\n",
    "        \"PRODUCER_ID                        = LRO_LROC_TEAM\\n\"\n",
    "        \"PRODUCT_CREATION_TIME              = 2013-09-16T19:57:12\\n\"\n",
    "        \"PRODUCER_INSTITUTION_NAME          = \\\"ARIZONA STATE UNIVERSITY\\\"\\n\"\n",
    "        \"PRODUCT_TYPE                       = EDR\\n\"\n",
    "        \"PRODUCT_VERSION_ID                 = \\\"v1.8\\\"\\n\"\n",
    "        \"UPLOAD_ID                          = \\\"SC_2010140_0000_A_V01.txt\\\"\\n\"\n",
    "        \"\\n\"\n",
    "        \"/*DATA DESCRIPTION*/\\n\"\n",
    "        \"TARGET_NAME                        = \\\"MOON\\\"\\n\"\n",
    "        \"RATIONALE_DESC                     = \\\"TARGET OF OPPORTUNITY\\\"\\n\"\n",
    "        \"FRAME_ID                           = LEFT\\n\"\n",
    "        \"DATA_QUALITY_ID                    = \\\"0\\\"\\n\"\n",
    "        \"DATA_QUALITY_DESC                  = \\\"The DATA_QUALITY_ID is set to an 8-bit\\n\"\n",
    "        \"   value that encodes the following data quality information for the\\n\"\n",
    "        \"   observation. For each bit  a value of 0 means FALSE and a value of 1 means\\n\"\n",
    "        \"   TRUE. More information about the data quality ID can be found in the LROC\\n\"\n",
    "        \"   EDR/CDR SIS, section 3.3 'Label and Header Descriptions'.\\n\"\n",
    "        \"       Bit 1: Temperature of focal plane array is out of bounds.\\n\"\n",
    "        \"       Bit 2: Threshold for saturated pixels is reached.\\n\"\n",
    "        \"       Bit 3: Threshold for under-saturated pixels is reached.\\n\"\n",
    "        \"       Bit 4: Observation is missing telemetry packets.\\n\"\n",
    "        \"       Bit 5: SPICE information is bad or missing.\\n\"\n",
    "        \"       Bit 6: Observation or housekeeping information is bad or missing.\\n\"\n",
    "        \"       Bit 7: Spare.\\n\"\n",
    "        \"       Bit 8: Spare.\\\"\\n\"\n",
    "        \"\\n\"\n",
    "        \"/*ENVIRONMENT*/\\n\"\n",
    "        \"LRO:TEMPERATURE_SCS                = 4.51 <degC>\\n\"\n",
    "        \"LRO:TEMPERATURE_FPA                = 17.88 <degC>\\n\"\n",
    "        \"LRO:TEMPERATURE_FPGA               = -12.33 <degC>\\n\"\n",
    "        \"LRO:TEMPERATURE_TELESCOPE          = 5.91 <degC>\\n\"\n",
    "        \"LRO:TEMPERATURE_SCS_RAW            = 2740\\n\"\n",
    "        \"LRO:TEMPERATURE_FPA_RAW            = 2107\\n\"\n",
    "        \"LRO:TEMPERATURE_FPGA_RAW           = 3418\\n\"\n",
    "        \"LRO:TEMPERATURE_TELESCOPE_RAW      = 2675\\n\"\n",
    "        \"\\n\"\n",
    "        \"/*IMAGING PARAMETERS*/\\n\"\n",
    "        \"CROSSTRACK_SUMMING                 = 1\\n\"\n",
    "        \"BANDWIDTH                          = 300 <nm>\\n\"\n",
    "        \"CENTER_FILTER_WAVELENGTH           = 600 <nm>\\n\"\n",
    "        \"LINE_EXPOSURE_DURATION             = 0.337600 <ms>\\n\"\n",
    "        \"LRO:LINE_EXPOSURE_CODE             = 0\\n\"\n",
    "        \"LRO:DAC_RESET_LEVEL                = 198\\n\"\n",
    "        \"LRO:CHANNEL_A_OFFSET               = 60\\n\"\n",
    "        \"LRO:CHANNEL_B_OFFSET               = 123\\n\"\n",
    "        \"LRO:COMPAND_CODE                   = 3\\n\"\n",
    "        \"LRO:LINE_CODE                      = 13\\n\"\n",
    "        \"LRO:BTERM                          = (0,16,69,103,128)\\n\"\n",
    "        \"LRO:MTERM                          = (0.5,0.25,0.125,0.0625,0.03125)\\n\"\n",
    "        \"LRO:XTERM                          = (0,64,424,536,800)\\n\"\n",
    "        \"LRO:COMPRESSION_FLAG               = 1\\n\"\n",
    "        \"LRO:MODE                           = 7\\n\"\n",
    "        \"\\n\"\n",
    "        \"/*DATA OBJECT*/\\n\"\n",
    "        \"OBJECT                             = IMAGE\\n\"\n",
    "        \"    LINES                          = 13312\\n\"\n",
    "        \"    LINE_SAMPLES                   = 5064\\n\"\n",
    "        \"    SAMPLE_BITS                    = 8\\n\"\n",
    "        \"    SAMPLE_TYPE                    = LSB_INTEGER\\n\"\n",
    "        \"    UNIT                           = \\\"RAW_INSTRUMENT_COUNT\\\"\\n\"\n",
    "        \"    MD5_CHECKSUM                   = \\\"0fe91f4b2e93083ee0093e7c8d05f3bc\\\"\\n\"\n",
    "        \"END_OBJECT                         = IMAGE\\n\"\n",
    "        \"END\\n\";\n"
   ]
  },
  {
   "cell_type": "code",
   "execution_count": 4,
   "metadata": {},
   "outputs": [],
   "source": [
    "std::string label;"
   ]
  },
  {
   "cell_type": "code",
   "execution_count": 5,
   "metadata": {},
   "outputs": [],
   "source": [
    "label = load(test_lro_label);"
   ]
  },
  {
   "cell_type": "code",
   "execution_count": 6,
   "metadata": {
    "scrolled": true
   },
   "outputs": [],
   "source": [
    "// label"
   ]
  },
  {
   "cell_type": "code",
   "execution_count": 7,
   "metadata": {},
   "outputs": [],
   "source": [
    "using json = nlohmann::json;\n",
    "json jlabel = json::parse(label)"
   ]
  },
  {
   "cell_type": "code",
   "execution_count": 8,
   "metadata": {},
   "outputs": [],
   "source": [
    "std::vector<double> orientations = jlabel.at(\"sensor_orientation\").at(0).get<std::vector<double>>()"
   ]
  },
  {
   "cell_type": "code",
   "execution_count": 9,
   "metadata": {},
   "outputs": [
    {
     "data": {
      "text/plain": [
       "{ 0.622216, 0.274174, -0.668159, 0.30206 }"
      ]
     },
     "execution_count": 9,
     "metadata": {},
     "output_type": "execute_result"
    }
   ],
   "source": [
    "orientations"
   ]
  },
  {
   "cell_type": "code",
   "execution_count": null,
   "metadata": {},
   "outputs": [],
   "source": []
  }
 ],
 "metadata": {
  "kernelspec": {
   "display_name": "C++11",
   "language": "C++11",
   "name": "xeus-cling-cpp11"
  },
  "language_info": {
   "codemirror_mode": "text/x-c++src",
   "file_extension": ".cpp",
   "mimetype": "text/x-c++src",
   "name": "c++",
   "version": "-std=c++11"
  }
 },
 "nbformat": 4,
 "nbformat_minor": 2
}
