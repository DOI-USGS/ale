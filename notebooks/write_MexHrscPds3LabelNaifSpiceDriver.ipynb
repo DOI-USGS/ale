{
 "cells": [
  {
   "cell_type": "markdown",
   "metadata": {},
   "source": [
    "# Writing out a USGSCSM ISD from a PDS3 Mex HRSC image"
   ]
  },
  {
   "cell_type": "code",
   "execution_count": 1,
   "metadata": {},
   "outputs": [],
   "source": [
    "import ale\n",
    "from ale.drivers.mex_drivers import MexHrscPds3NaifSpiceDriver\n",
    "from ale.formatters.usgscsm_formatter import to_usgscsm\n",
    "import json\n",
    "import os\n",
    "import knoten\n",
    "import csmapi\n",
    "import pvl\n",
    "import pyproj\n",
    "import numpy as np\n",
    "import pandas as pd\n",
    "from pysis import isis"
   ]
  },
  {
   "cell_type": "markdown",
   "metadata": {},
   "source": [
    "## Instantiating an ALE driver\n",
    "\n",
    "ALE drivers are objects that define how to acquire common ISD keys from an input image format, in this case we are reading in a PDS3 image using NAIF SPICE kernels for exterior orientation data. If the driver utilizes NAIF SPICE kernels, it is implemented as a [context manager](https://docs.python.org/3/reference/datamodel.html#context-managers) and will furnish metakernels when entering the context (i.e. when entering the `with` block) and free the metakernels on exit. This maintains the integrity of spicelib's internal data structures. These driver objects are short-lived and are input to a formatter function that consumes the API to create a serializable file format. `ale.formatters` contains available formatter functions. \n",
    "\n",
    "The default config file is located at `ale/config.yml` and is copied into your home directory at `.ale/config.yml` on first use of the library. The config file can be modified using a text editor. `ale.config` is loaded into memory as a dictionary. It is used to find metakernels for different missions. For example, there is an entry for LRO that points to `/usgs/cpkgs/isis3/data/lro/kernels/mk/` by default. If you want to use your own metakernels, you will need to udpate this path. For example, if the metakernels are located in `/data/lrolrocnac/mk/` the LRO entry should be updated with this path. If you are using the default metakernels, then you do not need to update the path.\n",
    "\n",
    "ALE has a two step process for writing out an ISD: 1. Instantiate your driver (in this case `LroLrocPds3LabelNaifSpiceDriver`) within a context and 2. pass the driver object into a formatter (in this case, `to_usgscsm`).  \n",
    "\n",
    "Requirements:\n",
    " * A PDS3 LRO LROC NAC image\n",
    " * NAIF metakernels installed\n",
    " * Config file path for LRO (ale.config.lro) pointing to LRO NAIF metakernel directory \n",
    " * A conda environment with ALE installed into it usisng the `conda install` command or created using the environment.yml file at the base of ALE."
   ]
  },
  {
   "cell_type": "code",
   "execution_count": 2,
   "metadata": {},
   "outputs": [
    {
     "name": "stdout",
     "output_type": "stream",
     "text": [
      "cassini: /usgs/cpkgs/isis3/data/cassini/kernels/mk/\n",
      "dawn: /data/spice/dawn-m_a-spice-6-v1.0/dawnsp_1000/extras/mk\n",
      "kaguya: /home/arsanders/SELENE/kernels/mk/\n",
      "lro: /scratch/jlaura/spice/lro-l-spice-6-v1.0/lrosp_1000/extras/mk/\n",
      "mdis: /data/spice/mess-e_v_h-spice-6-v1.0/messsp_1000/extras/mk\n",
      "mex: /home/arsanders/testData/5270/\n",
      "mro: /scratch/spice/mro-m-spice-6-v1.0/mrosp_1000/extras/mk/\n",
      "spice_root: /data/spice/\n",
      "\n",
      "Mex spice directory: /home/arsanders/testData/5270/\n"
     ]
    }
   ],
   "source": [
    "# printing config displays the yaml formatted string\n",
    "print(ale.config)\n",
    "\n",
    "# config object is a dictionary so it has the same access patterns \n",
    "print('Mex spice directory:', ale.config['mex'])\n",
    "\n",
    "# updating config for new LRO path in this notebook \n",
    "# Note: this will not change the path in `.ale/config.yml`. This change only lives in the notebook.\n",
    "# ale.config['lro'] = '/data/lrolrocnac/mk/'"
   ]
  },
  {
   "cell_type": "code",
   "execution_count": 3,
   "metadata": {},
   "outputs": [
    {
     "name": "stderr",
     "output_type": "stream",
     "text": [
      "/home/arsanders/ale/ale/drivers/mex_drivers.py:102: UserWarning: This driver has currently not been tested! Use at your own risk.\n",
      "  warnings.warn('This driver has currently not been tested! Use at your own risk.')\n"
     ]
    },
    {
     "name": "stdout",
     "output_type": "stream",
     "text": [
      "-203.67427718639374\n"
     ]
    },
    {
     "ename": "SpiceyError",
     "evalue": "\n================================================================================\n\nToolkit version: N0066\n\nSPICE(EMPTYSTRING) --\n\nString \"to\" has length zero.\n\npxform_c\n\n================================================================================",
     "output_type": "error",
     "traceback": [
      "\u001b[0;31m---------------------------------------------------------------------------\u001b[0m",
      "\u001b[0;31mSpiceyError\u001b[0m                               Traceback (most recent call last)",
      "\u001b[0;32m<ipython-input-3-1f0a68b4ef2f>\u001b[0m in \u001b[0;36m<module>\u001b[0;34m\u001b[0m\n\u001b[1;32m      7\u001b[0m     \u001b[0;31m# pass driver instance into formatter function\u001b[0m\u001b[0;34m\u001b[0m\u001b[0;34m\u001b[0m\u001b[0;34m\u001b[0m\u001b[0m\n\u001b[1;32m      8\u001b[0m     \u001b[0mprint\u001b[0m\u001b[0;34m(\u001b[0m\u001b[0mdriver\u001b[0m\u001b[0;34m.\u001b[0m\u001b[0mephemeris_start_time\u001b[0m \u001b[0;34m-\u001b[0m \u001b[0mdriver\u001b[0m\u001b[0;34m.\u001b[0m\u001b[0mephemeris_stop_time\u001b[0m\u001b[0;34m)\u001b[0m\u001b[0;34m\u001b[0m\u001b[0;34m\u001b[0m\u001b[0m\n\u001b[0;32m----> 9\u001b[0;31m     \u001b[0musgscsmString\u001b[0m \u001b[0;34m=\u001b[0m \u001b[0mto_usgscsm\u001b[0m\u001b[0;34m(\u001b[0m\u001b[0mdriver\u001b[0m\u001b[0;34m)\u001b[0m\u001b[0;34m\u001b[0m\u001b[0;34m\u001b[0m\u001b[0m\n\u001b[0m\u001b[1;32m     10\u001b[0m     \u001b[0mlines\u001b[0m\u001b[0;34m,\u001b[0m \u001b[0mtimes\u001b[0m\u001b[0;34m,\u001b[0m \u001b[0mdurations\u001b[0m \u001b[0;34m=\u001b[0m \u001b[0mdriver\u001b[0m\u001b[0;34m.\u001b[0m\u001b[0mline_scan_rate\u001b[0m\u001b[0;34m\u001b[0m\u001b[0;34m\u001b[0m\u001b[0m\n\u001b[1;32m     11\u001b[0m     \u001b[0mprint\u001b[0m\u001b[0;34m(\u001b[0m\u001b[0mtimes\u001b[0m\u001b[0;34m[\u001b[0m\u001b[0;34m-\u001b[0m\u001b[0;36m1\u001b[0m\u001b[0;34m]\u001b[0m \u001b[0;34m-\u001b[0m \u001b[0mtimes\u001b[0m\u001b[0;34m[\u001b[0m\u001b[0;36m0\u001b[0m\u001b[0;34m]\u001b[0m\u001b[0;34m)\u001b[0m\u001b[0;34m\u001b[0m\u001b[0;34m\u001b[0m\u001b[0m\n",
      "\u001b[0;32m~/ale/ale/formatters/usgscsm_formatter.py\u001b[0m in \u001b[0;36mto_usgscsm\u001b[0;34m(driver)\u001b[0m\n\u001b[1;32m     43\u001b[0m     }\n\u001b[1;32m     44\u001b[0m \u001b[0;34m\u001b[0m\u001b[0m\n\u001b[0;32m---> 45\u001b[0;31m     \u001b[0mframe_chain\u001b[0m \u001b[0;34m=\u001b[0m \u001b[0mdriver\u001b[0m\u001b[0;34m.\u001b[0m\u001b[0mframe_chain\u001b[0m\u001b[0;34m\u001b[0m\u001b[0;34m\u001b[0m\u001b[0m\n\u001b[0m\u001b[1;32m     46\u001b[0m     \u001b[0msensor_to_target\u001b[0m \u001b[0;34m=\u001b[0m \u001b[0mframe_chain\u001b[0m\u001b[0;34m.\u001b[0m\u001b[0mcompute_rotation\u001b[0m\u001b[0;34m(\u001b[0m\u001b[0mdriver\u001b[0m\u001b[0;34m.\u001b[0m\u001b[0msensor_frame_id\u001b[0m\u001b[0;34m,\u001b[0m \u001b[0mdriver\u001b[0m\u001b[0;34m.\u001b[0m\u001b[0mtarget_frame_id\u001b[0m\u001b[0;34m)\u001b[0m\u001b[0;34m\u001b[0m\u001b[0;34m\u001b[0m\u001b[0m\n\u001b[1;32m     47\u001b[0m     \u001b[0mquaternions\u001b[0m \u001b[0;34m=\u001b[0m \u001b[0msensor_to_target\u001b[0m\u001b[0;34m.\u001b[0m\u001b[0mquats\u001b[0m\u001b[0;34m\u001b[0m\u001b[0;34m\u001b[0m\u001b[0m\n",
      "\u001b[0;32m~/ale/ale/base/data_naif.py\u001b[0m in \u001b[0;36mframe_chain\u001b[0;34m(self)\u001b[0m\n\u001b[1;32m    316\u001b[0m     \u001b[0;32mdef\u001b[0m \u001b[0mframe_chain\u001b[0m\u001b[0;34m(\u001b[0m\u001b[0mself\u001b[0m\u001b[0;34m)\u001b[0m\u001b[0;34m:\u001b[0m\u001b[0;34m\u001b[0m\u001b[0;34m\u001b[0m\u001b[0m\n\u001b[1;32m    317\u001b[0m         \u001b[0;32mif\u001b[0m \u001b[0;32mnot\u001b[0m \u001b[0mhasattr\u001b[0m\u001b[0;34m(\u001b[0m\u001b[0mself\u001b[0m\u001b[0;34m,\u001b[0m \u001b[0;34m'_frame_chain'\u001b[0m\u001b[0;34m)\u001b[0m\u001b[0;34m:\u001b[0m\u001b[0;34m\u001b[0m\u001b[0;34m\u001b[0m\u001b[0m\n\u001b[0;32m--> 318\u001b[0;31m             \u001b[0mself\u001b[0m\u001b[0;34m.\u001b[0m\u001b[0m_frame_chain\u001b[0m \u001b[0;34m=\u001b[0m \u001b[0mFrameChain\u001b[0m\u001b[0;34m.\u001b[0m\u001b[0mfrom_spice\u001b[0m\u001b[0;34m(\u001b[0m\u001b[0mframe_changes\u001b[0m \u001b[0;34m=\u001b[0m \u001b[0;34m[\u001b[0m\u001b[0;34m(\u001b[0m\u001b[0;36m1\u001b[0m\u001b[0;34m,\u001b[0m \u001b[0mself\u001b[0m\u001b[0;34m.\u001b[0m\u001b[0msensor_frame_id\u001b[0m\u001b[0;34m)\u001b[0m\u001b[0;34m,\u001b[0m \u001b[0;34m(\u001b[0m\u001b[0;36m1\u001b[0m\u001b[0;34m,\u001b[0m \u001b[0mself\u001b[0m\u001b[0;34m.\u001b[0m\u001b[0mtarget_frame_id\u001b[0m\u001b[0;34m)\u001b[0m\u001b[0;34m]\u001b[0m\u001b[0;34m,\u001b[0m \u001b[0mephemeris_time\u001b[0m\u001b[0;34m=\u001b[0m\u001b[0mself\u001b[0m\u001b[0;34m.\u001b[0m\u001b[0mephemeris_time\u001b[0m\u001b[0;34m)\u001b[0m\u001b[0;34m\u001b[0m\u001b[0;34m\u001b[0m\u001b[0m\n\u001b[0m\u001b[1;32m    319\u001b[0m         \u001b[0;32mreturn\u001b[0m \u001b[0mself\u001b[0m\u001b[0;34m.\u001b[0m\u001b[0m_frame_chain\u001b[0m\u001b[0;34m\u001b[0m\u001b[0;34m\u001b[0m\u001b[0m\n\u001b[1;32m    320\u001b[0m \u001b[0;34m\u001b[0m\u001b[0m\n",
      "\u001b[0;32m~/ale/ale/transformation.py\u001b[0m in \u001b[0;36mfrom_spice\u001b[0;34m(cls, frame_changes, ephemeris_time, *args, **kwargs)\u001b[0m\n\u001b[1;32m     33\u001b[0m         \u001b[0;32mfor\u001b[0m \u001b[0ms\u001b[0m\u001b[0;34m,\u001b[0m \u001b[0md\u001b[0m \u001b[0;32min\u001b[0m \u001b[0mframe_changes\u001b[0m\u001b[0;34m:\u001b[0m\u001b[0;34m\u001b[0m\u001b[0;34m\u001b[0m\u001b[0m\n\u001b[1;32m     34\u001b[0m             \u001b[0;32mfor\u001b[0m \u001b[0mi\u001b[0m\u001b[0;34m,\u001b[0m \u001b[0mtime\u001b[0m \u001b[0;32min\u001b[0m \u001b[0menumerate\u001b[0m\u001b[0;34m(\u001b[0m\u001b[0mtimes\u001b[0m\u001b[0;34m)\u001b[0m\u001b[0;34m:\u001b[0m\u001b[0;34m\u001b[0m\u001b[0;34m\u001b[0m\u001b[0m\n\u001b[0;32m---> 35\u001b[0;31m                 \u001b[0mrotation_matrix\u001b[0m \u001b[0;34m=\u001b[0m \u001b[0mspice\u001b[0m\u001b[0;34m.\u001b[0m\u001b[0mpxform\u001b[0m\u001b[0;34m(\u001b[0m\u001b[0mspice\u001b[0m\u001b[0;34m.\u001b[0m\u001b[0mfrmnam\u001b[0m\u001b[0;34m(\u001b[0m\u001b[0ms\u001b[0m\u001b[0;34m)\u001b[0m\u001b[0;34m,\u001b[0m \u001b[0mspice\u001b[0m\u001b[0;34m.\u001b[0m\u001b[0mfrmnam\u001b[0m\u001b[0;34m(\u001b[0m\u001b[0md\u001b[0m\u001b[0;34m)\u001b[0m\u001b[0;34m,\u001b[0m \u001b[0mtime\u001b[0m\u001b[0;34m)\u001b[0m\u001b[0;34m\u001b[0m\u001b[0;34m\u001b[0m\u001b[0m\n\u001b[0m\u001b[1;32m     36\u001b[0m                 \u001b[0mquat_from_rotation\u001b[0m \u001b[0;34m=\u001b[0m \u001b[0mspice\u001b[0m\u001b[0;34m.\u001b[0m\u001b[0mm2q\u001b[0m\u001b[0;34m(\u001b[0m\u001b[0mrotation_matrix\u001b[0m\u001b[0;34m)\u001b[0m\u001b[0;34m\u001b[0m\u001b[0;34m\u001b[0m\u001b[0m\n\u001b[1;32m     37\u001b[0m                 \u001b[0mquats\u001b[0m\u001b[0;34m[\u001b[0m\u001b[0mi\u001b[0m\u001b[0;34m,\u001b[0m\u001b[0;34m:\u001b[0m\u001b[0;36m3\u001b[0m\u001b[0;34m]\u001b[0m \u001b[0;34m=\u001b[0m \u001b[0mquat_from_rotation\u001b[0m\u001b[0;34m[\u001b[0m\u001b[0;36m1\u001b[0m\u001b[0;34m:\u001b[0m\u001b[0;34m]\u001b[0m\u001b[0;34m\u001b[0m\u001b[0;34m\u001b[0m\u001b[0m\n",
      "\u001b[0;32m~/miniconda3/envs/vm4ale/lib/python3.7/site-packages/spiceypy/spiceypy.py\u001b[0m in \u001b[0;36mwith_errcheck\u001b[0;34m(*args, **kwargs)\u001b[0m\n\u001b[1;32m     76\u001b[0m         \u001b[0;32mtry\u001b[0m\u001b[0;34m:\u001b[0m\u001b[0;34m\u001b[0m\u001b[0;34m\u001b[0m\u001b[0m\n\u001b[1;32m     77\u001b[0m             \u001b[0mres\u001b[0m \u001b[0;34m=\u001b[0m \u001b[0mf\u001b[0m\u001b[0;34m(\u001b[0m\u001b[0;34m*\u001b[0m\u001b[0margs\u001b[0m\u001b[0;34m,\u001b[0m \u001b[0;34m**\u001b[0m\u001b[0mkwargs\u001b[0m\u001b[0;34m)\u001b[0m\u001b[0;34m\u001b[0m\u001b[0;34m\u001b[0m\u001b[0m\n\u001b[0;32m---> 78\u001b[0;31m             \u001b[0mcheckForSpiceError\u001b[0m\u001b[0;34m(\u001b[0m\u001b[0mf\u001b[0m\u001b[0;34m)\u001b[0m\u001b[0;34m\u001b[0m\u001b[0;34m\u001b[0m\u001b[0m\n\u001b[0m\u001b[1;32m     79\u001b[0m             \u001b[0;32mreturn\u001b[0m \u001b[0mres\u001b[0m\u001b[0;34m\u001b[0m\u001b[0;34m\u001b[0m\u001b[0m\n\u001b[1;32m     80\u001b[0m         \u001b[0;32mexcept\u001b[0m\u001b[0;34m:\u001b[0m\u001b[0;34m\u001b[0m\u001b[0;34m\u001b[0m\u001b[0m\n",
      "\u001b[0;32m~/miniconda3/envs/vm4ale/lib/python3.7/site-packages/spiceypy/spiceypy.py\u001b[0m in \u001b[0;36mcheckForSpiceError\u001b[0;34m(f)\u001b[0m\n\u001b[1;32m     59\u001b[0m         \u001b[0mmsg\u001b[0m \u001b[0;34m=\u001b[0m \u001b[0mstypes\u001b[0m\u001b[0;34m.\u001b[0m\u001b[0merrorformat\u001b[0m\u001b[0;34m.\u001b[0m\u001b[0mformat\u001b[0m\u001b[0;34m(\u001b[0m\u001b[0;34m**\u001b[0m\u001b[0merrorparts\u001b[0m\u001b[0;34m)\u001b[0m\u001b[0;34m\u001b[0m\u001b[0;34m\u001b[0m\u001b[0m\n\u001b[1;32m     60\u001b[0m         \u001b[0mreset\u001b[0m\u001b[0;34m(\u001b[0m\u001b[0;34m)\u001b[0m\u001b[0;34m\u001b[0m\u001b[0;34m\u001b[0m\u001b[0m\n\u001b[0;32m---> 61\u001b[0;31m         \u001b[0;32mraise\u001b[0m \u001b[0mstypes\u001b[0m\u001b[0;34m.\u001b[0m\u001b[0mSpiceyError\u001b[0m\u001b[0;34m(\u001b[0m\u001b[0mmsg\u001b[0m\u001b[0;34m)\u001b[0m\u001b[0;34m\u001b[0m\u001b[0;34m\u001b[0m\u001b[0m\n\u001b[0m\u001b[1;32m     62\u001b[0m \u001b[0;34m\u001b[0m\u001b[0m\n\u001b[1;32m     63\u001b[0m \u001b[0;34m\u001b[0m\u001b[0m\n",
      "\u001b[0;31mSpiceyError\u001b[0m: \n================================================================================\n\nToolkit version: N0066\n\nSPICE(EMPTYSTRING) --\n\nString \"to\" has length zero.\n\npxform_c\n\n================================================================================"
     ]
    }
   ],
   "source": [
    "# change to desired PDS3 image path \n",
    "fileName = '/home/arsanders/testData/5270/h5270_0000_ir2.img'\n",
    "\n",
    "# metakernels are furnsh-ed when entering the context (with block) with a driver instance\n",
    "# most driver constructors simply accept an image path \n",
    "with MexHrscPds3NaifSpiceDriver(fileName) as driver:\n",
    "    # pass driver instance into formatter function\n",
    "    print(driver.ephemeris_start_time - driver.ephemeris_stop_time)\n",
    "    usgscsmString = to_usgscsm(driver)\n",
    "    lines, times, durations = driver.line_scan_rate\n",
    "    print(times[-1] - times[0])\n",
    "    print(driver.fikid)\n"
   ]
  },
  {
   "cell_type": "markdown",
   "metadata": {},
   "source": [
    "### Write ISD to disk \n",
    "\n",
    "ALE formatter functions generally return bytes or a string that can be written out to disk. ALE's USGSCSM formatter function returns a JSON encoded string that can be written out using any JSON library. \n",
    "\n",
    "USGSCSM requires the ISD to be colocated with the image file with a `.json` extension in place of the image extension.\n"
   ]
  },
  {
   "cell_type": "code",
   "execution_count": null,
   "metadata": {},
   "outputs": [],
   "source": [
    "# load the json encoded string ISD\n",
    "usgscsm_dict = json.loads(usgscsmString)\n",
    "usgscsm_dict['log_file'] = '/home/arsanders/usgscsm.log'\n",
    "\n",
    "# strip the image file extension and append .json \n",
    "jsonFile = os.path.splitext(fileName)[0] + '.json'\n",
    "\n",
    "# write to disk \n",
    "with open(jsonFile, 'w') as fp:\n",
    "    json.dump(usgscsm_dict, fp)"
   ]
  },
  {
   "cell_type": "code",
   "execution_count": null,
   "metadata": {},
   "outputs": [],
   "source": [
    "# Set the output location of the resulting .cub\n",
    "cub_loc = os.path.splitext(fileName)[0] + '.cub'\n",
    "\n",
    "try: \n",
    "    isis.hrsc2isis(from_=fileName, to=cub_loc)\n",
    "except ProcessError as e:\n",
    "    print(e.stderr)\n",
    "\n",
    "try:\n",
    "    isis.spiceinit(from_=cub_loc, shape='ellipsoid', ckpredicted=True, spkpredicted=True)\n",
    "except ProcessError as e:\n",
    "    print(e.stderr)"
   ]
  },
  {
   "cell_type": "code",
   "execution_count": null,
   "metadata": {},
   "outputs": [],
   "source": [
    "camera = knoten.csm.create_csm(fileName)"
   ]
  },
  {
   "cell_type": "code",
   "execution_count": null,
   "metadata": {},
   "outputs": [],
   "source": [
    "def ecef_to_lla(x, y, z, a_radius, b_radius):\n",
    "    \"\"\" Converts from earth-centric, earth-fixed to lat, lon, altitude\n",
    "    \"\"\"\n",
    "    ecef = pyproj.Proj(proj='geocent', a=a_radius, b=b_radius)\n",
    "    lla = pyproj.Proj(proj='latlong',  a=a_radius, b=b_radius)\n",
    "    \n",
    "    lon, lat, alt = pyproj.transform(ecef, lla, x, y, z)\n",
    "    return lon, lat, alt"
   ]
  },
  {
   "cell_type": "code",
   "execution_count": null,
   "metadata": {},
   "outputs": [],
   "source": [
    "image_pt = csmapi.ImageCoord(.5, .5)\n",
    "ecef_coord = camera.imageToGround(image_pt, 0.0)\n",
    "ecef_coord.x, ecef_coord.y, ecef_coord.z\n",
    "a_rad, b_rad = knoten.csm.get_radii(camera)\n",
    "lon, lat, _ = ecef_to_lla(ecef_coord.x, ecef_coord.y, ecef_coord.z, a_rad, b_rad)\n",
    "lon = (lon+360)%360"
   ]
  },
  {
   "cell_type": "code",
   "execution_count": null,
   "metadata": {},
   "outputs": [],
   "source": [
    "pvl_output = pvl.loads(isis.campt(from_=cub_loc, line=1, sample=1))"
   ]
  },
  {
   "cell_type": "code",
   "execution_count": null,
   "metadata": {},
   "outputs": [],
   "source": [
    "# Grab spacecraft position and body fixed look vector from csm\n",
    "locus = camera.imageToRemoteImagingLocus(csmapi.ImageCoord(1 - .5, 1 - .5))\n",
    "csm_bodyfixedLV = np.asarray([locus.direction.x, locus.direction.y, locus.direction.z])\n",
    "csm_position = np.asarray([locus.point.x, locus.point.y, locus.point.z])\n",
    "\n",
    "# Grab spacecraft position and body fixed look vector from campt pvl output\n",
    "campt_bodyfixedLV = np.asarray(pvl_output['GroundPoint']['LookDirectionBodyFixed'])\n",
    "campt_position = pvl_output['GroundPoint']['SpacecraftPosition']\n",
    "campt_position = np.asarray(campt_position.value) * 1000\n",
    "\n",
    "# Compute the differences\n",
    "print(csm_bodyfixedLV - campt_bodyfixedLV)\n",
    "print(csm_position - campt_position)"
   ]
  },
  {
   "cell_type": "code",
   "execution_count": null,
   "metadata": {},
   "outputs": [],
   "source": [
    "def check_pixel(camera, cub, line, sample):\n",
    "    \"\"\"Compares ISIS and USGSCSM pixel.\n",
    "    \n",
    "    Takes an image coordinate, projects it to a ground point using ISIS, then projects\n",
    "    the result back into an image coordinate using USGSCSM and computes the difference\n",
    "    between image coordinates.\n",
    "    \"\"\"\n",
    "    output = isis.campt(from_=cub, line=line, sample=sample)\n",
    "    pvl_output = pvl.loads(output)\n",
    "    bodyfixed = pvl_output['GroundPoint']['BodyFixedCoordinate']\n",
    "    bodyfixed = np.asarray(bodyfixed.value) * 1000\n",
    "    image_coord = camera.groundToImage(csmapi.EcefCoord(*bodyfixed))\n",
    "    # (.5,.5) in CSM == (1,1) in ISIS, so we have to subtract (.5,.5) from the ISIS pixels\n",
    "    line_diff = line - image_coord.line - .5\n",
    "    sample_diff = sample - image_coord.samp - .5\n",
    "    return line_diff, sample_diff"
   ]
  },
  {
   "cell_type": "code",
   "execution_count": null,
   "metadata": {},
   "outputs": [],
   "source": [
    "isis_label = pvl.load(cub_loc)\n",
    "n_samples = isis_label['IsisCube']['Core']['Dimensions']['Samples']\n",
    "n_lines = isis_label['IsisCube']['Core']['Dimensions']['Lines']"
   ]
  },
  {
   "cell_type": "code",
   "execution_count": null,
   "metadata": {},
   "outputs": [],
   "source": [
    "pixels_dict = {'line' : [1,1,n_lines, n_lines, n_lines/2],\n",
    "               'sample' : [1, n_samples, 1, n_samples, n_samples/2]}\n",
    "\n",
    "pixels_df = pd.DataFrame.from_dict(pixels_dict)\n",
    "pixels_df['line_diff'] = np.NaN\n",
    "pixels_df['sample_diff'] = np.NaN\n",
    "\n",
    "for idx, row in pixels_df.iterrows():\n",
    "    pixels_df.iloc[idx]['line_diff'], pixels_df.iloc[idx]['sample_diff'] = check_pixel(camera, cub_loc, row['line'], row['sample'])\n",
    "\n",
    "pixels_df"
   ]
  },
  {
   "cell_type": "code",
   "execution_count": null,
   "metadata": {},
   "outputs": [],
   "source": [
    "sample = np.floor(np.linspace(1, n_samples, 100))\n",
    "result = [check_pixel(camera, cub_loc, 1, i) for i in sample]"
   ]
  },
  {
   "cell_type": "code",
   "execution_count": null,
   "metadata": {},
   "outputs": [],
   "source": [
    "for i in range(len(result)):\n",
    "    print(result[i+1][1] - result[i][1])"
   ]
  },
  {
   "cell_type": "code",
   "execution_count": null,
   "metadata": {},
   "outputs": [],
   "source": []
  }
 ],
 "metadata": {
  "kernelspec": {
   "display_name": "Python 3",
   "language": "python",
   "name": "python3"
  },
  "language_info": {
   "codemirror_mode": {
    "name": "ipython",
    "version": 3
   },
   "file_extension": ".py",
   "mimetype": "text/x-python",
   "name": "python",
   "nbconvert_exporter": "python",
   "pygments_lexer": "ipython3",
   "version": "3.7.3"
  }
 },
 "nbformat": 4,
 "nbformat_minor": 2
}
