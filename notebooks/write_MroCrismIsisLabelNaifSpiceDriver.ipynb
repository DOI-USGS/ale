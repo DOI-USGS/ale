{
 "cells": [
  {
   "cell_type": "code",
   "execution_count": 1,
   "metadata": {},
   "outputs": [],
   "source": [
    "fileName = '/home/astamile/FRT00003B73_01_IF156S_TRR2-spiced.cub'\n",
    "\n",
    "import ale \n",
    "from ale.drivers.mro_drivers import MroCrismIsisLabelNaifSpiceDriver\n",
    "from ale.formatters.isis_formatter import to_isis\n",
    "\n",
    "import spiceypy as spice"
   ]
  },
  {
   "cell_type": "code",
   "execution_count": 2,
   "metadata": {
    "scrolled": false
   },
   "outputs": [
    {
     "name": "stderr",
     "output_type": "stream",
     "text": [
      "/home/astamile/.conda/envs/ale/lib/python3.10/site-packages/Ale-0.8.6-py3.10.egg/ale/util.py:508: UserWarning: kernel search for *-74010* failed with Spice returns not found for function: gnpool\n",
      "  warnings.warn(f\"kernel search for {matchstr} failed with {e}\")\n"
     ]
    },
    {
     "ename": "NotFoundError",
     "evalue": "Spice returns not found for function: frinfo",
     "output_type": "error",
     "traceback": [
      "\u001b[0;31m---------------------------------------------------------------------------\u001b[0m",
      "\u001b[0;31mNotFoundError\u001b[0m                             Traceback (most recent call last)",
      "Input \u001b[0;32mIn [2]\u001b[0m, in \u001b[0;36m<cell line: 1>\u001b[0;34m()\u001b[0m\n\u001b[1;32m      1\u001b[0m \u001b[38;5;28;01mwith\u001b[39;00m MroCrismIsisLabelNaifSpiceDriver(fileName) \u001b[38;5;28;01mas\u001b[39;00m driver:\n\u001b[0;32m----> 2\u001b[0m     isisString \u001b[38;5;241m=\u001b[39m \u001b[43mto_isis\u001b[49m\u001b[43m(\u001b[49m\u001b[43mdriver\u001b[49m\u001b[43m)\u001b[49m\n",
      "File \u001b[0;32m~/.conda/envs/ale/lib/python3.10/site-packages/Ale-0.8.6-py3.10.egg/ale/formatters/isis_formatter.py:27\u001b[0m, in \u001b[0;36mto_isis\u001b[0;34m(driver)\u001b[0m\n\u001b[1;32m     23\u001b[0m meta_data[\u001b[38;5;124m'\u001b[39m\u001b[38;5;124mCameraVersion\u001b[39m\u001b[38;5;124m'\u001b[39m] \u001b[38;5;241m=\u001b[39m driver\u001b[38;5;241m.\u001b[39msensor_model_version\n\u001b[1;32m     25\u001b[0m meta_data[\u001b[38;5;124m'\u001b[39m\u001b[38;5;124mNaifKeywords\u001b[39m\u001b[38;5;124m'\u001b[39m] \u001b[38;5;241m=\u001b[39m driver\u001b[38;5;241m.\u001b[39mnaif_keywords\n\u001b[0;32m---> 27\u001b[0m frame_chain \u001b[38;5;241m=\u001b[39m \u001b[43mdriver\u001b[49m\u001b[38;5;241;43m.\u001b[39;49m\u001b[43mframe_chain\u001b[49m\n\u001b[1;32m     28\u001b[0m sensor_frame \u001b[38;5;241m=\u001b[39m driver\u001b[38;5;241m.\u001b[39msensor_frame_id\n\u001b[1;32m     29\u001b[0m target_frame \u001b[38;5;241m=\u001b[39m driver\u001b[38;5;241m.\u001b[39mtarget_frame_id\n",
      "File \u001b[0;32m~/.conda/envs/ale/lib/python3.10/site-packages/Ale-0.8.6-py3.10.egg/ale/base/data_naif.py:424\u001b[0m, in \u001b[0;36mNaifSpice.frame_chain\u001b[0;34m(self)\u001b[0m\n\u001b[1;32m    422\u001b[0m \u001b[38;5;28;01mif\u001b[39;00m \u001b[38;5;129;01mnot\u001b[39;00m \u001b[38;5;28mhasattr\u001b[39m(\u001b[38;5;28mself\u001b[39m, \u001b[38;5;124m'\u001b[39m\u001b[38;5;124m_frame_chain\u001b[39m\u001b[38;5;124m'\u001b[39m):\n\u001b[1;32m    423\u001b[0m     nadir \u001b[38;5;241m=\u001b[39m \u001b[38;5;28mself\u001b[39m\u001b[38;5;241m.\u001b[39m_props\u001b[38;5;241m.\u001b[39mget(\u001b[38;5;124m'\u001b[39m\u001b[38;5;124mnadir\u001b[39m\u001b[38;5;124m'\u001b[39m, \u001b[38;5;28;01mFalse\u001b[39;00m)\n\u001b[0;32m--> 424\u001b[0m     \u001b[38;5;28mself\u001b[39m\u001b[38;5;241m.\u001b[39m_frame_chain \u001b[38;5;241m=\u001b[39m \u001b[43mFrameChain\u001b[49m\u001b[38;5;241;43m.\u001b[39;49m\u001b[43mfrom_spice\u001b[49m\u001b[43m(\u001b[49m\u001b[43msensor_frame\u001b[49m\u001b[38;5;241;43m=\u001b[39;49m\u001b[38;5;28;43mself\u001b[39;49m\u001b[38;5;241;43m.\u001b[39;49m\u001b[43msensor_frame_id\u001b[49m\u001b[43m,\u001b[49m\n\u001b[1;32m    425\u001b[0m \u001b[43m                                              \u001b[49m\u001b[43mtarget_frame\u001b[49m\u001b[38;5;241;43m=\u001b[39;49m\u001b[38;5;28;43mself\u001b[39;49m\u001b[38;5;241;43m.\u001b[39;49m\u001b[43mtarget_frame_id\u001b[49m\u001b[43m,\u001b[49m\n\u001b[1;32m    426\u001b[0m \u001b[43m                                              \u001b[49m\u001b[43mcenter_ephemeris_time\u001b[49m\u001b[38;5;241;43m=\u001b[39;49m\u001b[38;5;28;43mself\u001b[39;49m\u001b[38;5;241;43m.\u001b[39;49m\u001b[43mcenter_ephemeris_time\u001b[49m\u001b[43m,\u001b[49m\n\u001b[1;32m    427\u001b[0m \u001b[43m                                              \u001b[49m\u001b[43mephemeris_times\u001b[49m\u001b[38;5;241;43m=\u001b[39;49m\u001b[38;5;28;43mself\u001b[39;49m\u001b[38;5;241;43m.\u001b[39;49m\u001b[43mephemeris_time\u001b[49m\u001b[43m,\u001b[49m\n\u001b[1;32m    428\u001b[0m \u001b[43m                                              \u001b[49m\u001b[43mnadir\u001b[49m\u001b[38;5;241;43m=\u001b[39;49m\u001b[43mnadir\u001b[49m\u001b[43m)\u001b[49m\n\u001b[1;32m    430\u001b[0m     \u001b[38;5;28;01mif\u001b[39;00m nadir:\n\u001b[1;32m    431\u001b[0m         \u001b[38;5;66;03m# Logic for nadir calculation was taken from ISIS3\u001b[39;00m\n\u001b[1;32m    432\u001b[0m         \u001b[38;5;66;03m#  SpiceRotation::setEphemerisTimeNadir\u001b[39;00m\n\u001b[1;32m    433\u001b[0m         rotation \u001b[38;5;241m=\u001b[39m \u001b[38;5;28mself\u001b[39m\u001b[38;5;241m.\u001b[39m_frame_chain\u001b[38;5;241m.\u001b[39mcompute_rotation(\u001b[38;5;28mself\u001b[39m\u001b[38;5;241m.\u001b[39mtarget_frame_id, \u001b[38;5;241m1\u001b[39m)\n",
      "File \u001b[0;32m~/.conda/envs/ale/lib/python3.10/site-packages/Ale-0.8.6-py3.10.egg/ale/transformation.py:104\u001b[0m, in \u001b[0;36mFrameChain.from_spice\u001b[0;34m(cls, sensor_frame, target_frame, center_ephemeris_time, ephemeris_times, nadir)\u001b[0m\n\u001b[1;32m    100\u001b[0m frame_chain \u001b[38;5;241m=\u001b[39m \u001b[38;5;28mcls\u001b[39m()\n\u001b[1;32m    102\u001b[0m times \u001b[38;5;241m=\u001b[39m np\u001b[38;5;241m.\u001b[39marray(ephemeris_times)\n\u001b[0;32m--> 104\u001b[0m sensor_time_dependent_frames, sensor_constant_frames \u001b[38;5;241m=\u001b[39m \u001b[38;5;28;43mcls\u001b[39;49m\u001b[38;5;241;43m.\u001b[39;49m\u001b[43mframe_trace\u001b[49m\u001b[43m(\u001b[49m\u001b[43msensor_frame\u001b[49m\u001b[43m,\u001b[49m\u001b[43m \u001b[49m\u001b[43mcenter_ephemeris_time\u001b[49m\u001b[43m,\u001b[49m\u001b[43m \u001b[49m\u001b[43mnadir\u001b[49m\u001b[43m)\u001b[49m\n\u001b[1;32m    105\u001b[0m target_time_dependent_frames, target_constant_frames \u001b[38;5;241m=\u001b[39m \u001b[38;5;28mcls\u001b[39m\u001b[38;5;241m.\u001b[39mframe_trace(target_frame, center_ephemeris_time)\n\u001b[1;32m    107\u001b[0m time_dependent_frames \u001b[38;5;241m=\u001b[39m \u001b[38;5;28mlist\u001b[39m(\u001b[38;5;28mzip\u001b[39m(sensor_time_dependent_frames[:\u001b[38;5;241m-\u001b[39m\u001b[38;5;241m1\u001b[39m], sensor_time_dependent_frames[\u001b[38;5;241m1\u001b[39m:]))\n",
      "File \u001b[0;32m~/.conda/envs/ale/lib/python3.10/site-packages/Ale-0.8.6-py3.10.egg/ale/transformation.py:144\u001b[0m, in \u001b[0;36mFrameChain.frame_trace\u001b[0;34m(reference_frame, ephemeris_time, nadir)\u001b[0m\n\u001b[1;32m    141\u001b[0m \u001b[38;5;129m@staticmethod\u001b[39m\n\u001b[1;32m    142\u001b[0m \u001b[38;5;28;01mdef\u001b[39;00m \u001b[38;5;21mframe_trace\u001b[39m(reference_frame, ephemeris_time, nadir\u001b[38;5;241m=\u001b[39m\u001b[38;5;28;01mFalse\u001b[39;00m):\n\u001b[1;32m    143\u001b[0m     frame_codes \u001b[38;5;241m=\u001b[39m [reference_frame]\n\u001b[0;32m--> 144\u001b[0m     _, frame_type, _ \u001b[38;5;241m=\u001b[39m \u001b[43mspice\u001b[49m\u001b[38;5;241;43m.\u001b[39;49m\u001b[43mfrinfo\u001b[49m\u001b[43m(\u001b[49m\u001b[43mframe_codes\u001b[49m\u001b[43m[\u001b[49m\u001b[38;5;241;43m-\u001b[39;49m\u001b[38;5;241;43m1\u001b[39;49m\u001b[43m]\u001b[49m\u001b[43m)\u001b[49m\n\u001b[1;32m    145\u001b[0m     frame_types \u001b[38;5;241m=\u001b[39m [frame_type]\n\u001b[1;32m    147\u001b[0m     \u001b[38;5;28;01mif\u001b[39;00m nadir:\n",
      "File \u001b[0;32m~/.conda/envs/ale/lib/python3.10/site-packages/spiceypy/spiceypy.py:123\u001b[0m, in \u001b[0;36mspice_error_check.<locals>.with_errcheck\u001b[0;34m(*args, **kwargs)\u001b[0m\n\u001b[1;32m    120\u001b[0m \u001b[38;5;129m@functools\u001b[39m\u001b[38;5;241m.\u001b[39mwraps(f)\n\u001b[1;32m    121\u001b[0m \u001b[38;5;28;01mdef\u001b[39;00m \u001b[38;5;21mwith_errcheck\u001b[39m(\u001b[38;5;241m*\u001b[39margs, \u001b[38;5;241m*\u001b[39m\u001b[38;5;241m*\u001b[39mkwargs):\n\u001b[1;32m    122\u001b[0m     \u001b[38;5;28;01mtry\u001b[39;00m:\n\u001b[0;32m--> 123\u001b[0m         res \u001b[38;5;241m=\u001b[39m \u001b[43mf\u001b[49m\u001b[43m(\u001b[49m\u001b[38;5;241;43m*\u001b[39;49m\u001b[43margs\u001b[49m\u001b[43m,\u001b[49m\u001b[43m \u001b[49m\u001b[38;5;241;43m*\u001b[39;49m\u001b[38;5;241;43m*\u001b[39;49m\u001b[43mkwargs\u001b[49m\u001b[43m)\u001b[49m\n\u001b[1;32m    124\u001b[0m         check_for_spice_error(f)\n\u001b[1;32m    125\u001b[0m         \u001b[38;5;28;01mreturn\u001b[39;00m res\n",
      "File \u001b[0;32m~/.conda/envs/ale/lib/python3.10/site-packages/spiceypy/spiceypy.py:143\u001b[0m, in \u001b[0;36mspice_found_exception_thrower.<locals>.wrapper\u001b[0;34m(*args, **kwargs)\u001b[0m\n\u001b[1;32m    141\u001b[0m found \u001b[38;5;241m=\u001b[39m res[\u001b[38;5;241m-\u001b[39m\u001b[38;5;241m1\u001b[39m]\n\u001b[1;32m    142\u001b[0m \u001b[38;5;28;01mif\u001b[39;00m \u001b[38;5;28misinstance\u001b[39m(found, \u001b[38;5;28mbool\u001b[39m) \u001b[38;5;129;01mand\u001b[39;00m \u001b[38;5;129;01mnot\u001b[39;00m found:\n\u001b[0;32m--> 143\u001b[0m     \u001b[38;5;28;01mraise\u001b[39;00m stypes\u001b[38;5;241m.\u001b[39mNotFoundError(\n\u001b[1;32m    144\u001b[0m         \u001b[38;5;124m\"\u001b[39m\u001b[38;5;124mSpice returns not found for function: \u001b[39m\u001b[38;5;132;01m{}\u001b[39;00m\u001b[38;5;124m\"\u001b[39m\u001b[38;5;241m.\u001b[39mformat(f\u001b[38;5;241m.\u001b[39m\u001b[38;5;18m__name__\u001b[39m),\n\u001b[1;32m    145\u001b[0m         found\u001b[38;5;241m=\u001b[39mfound,\n\u001b[1;32m    146\u001b[0m     )\n\u001b[1;32m    147\u001b[0m \u001b[38;5;28;01melif\u001b[39;00m stypes\u001b[38;5;241m.\u001b[39mis_iterable(found) \u001b[38;5;129;01mand\u001b[39;00m \u001b[38;5;129;01mnot\u001b[39;00m \u001b[38;5;28mall\u001b[39m(found):\n\u001b[1;32m    148\u001b[0m     \u001b[38;5;28;01mraise\u001b[39;00m stypes\u001b[38;5;241m.\u001b[39mNotFoundError(\n\u001b[1;32m    149\u001b[0m         \u001b[38;5;124m\"\u001b[39m\u001b[38;5;124mSpice returns not found in a series of calls for function: \u001b[39m\u001b[38;5;132;01m{}\u001b[39;00m\u001b[38;5;124m\"\u001b[39m\u001b[38;5;241m.\u001b[39mformat(\n\u001b[1;32m    150\u001b[0m             f\u001b[38;5;241m.\u001b[39m\u001b[38;5;18m__name__\u001b[39m\n\u001b[1;32m    151\u001b[0m         ),\n\u001b[1;32m    152\u001b[0m         found\u001b[38;5;241m=\u001b[39mfound,\n\u001b[1;32m    153\u001b[0m     )\n",
      "\u001b[0;31mNotFoundError\u001b[0m: Spice returns not found for function: frinfo"
     ]
    }
   ],
   "source": [
    "with MroCrismIsisLabelNaifSpiceDriver(fileName) as driver:\n",
    "    isisString = to_isis(driver)"
   ]
  },
  {
   "cell_type": "code",
   "execution_count": null,
   "metadata": {},
   "outputs": [],
   "source": [
    "import json\n",
    "\n",
    "isis_dict = json.loads(isisString)\n",
    "\n",
    "json_file = os.path.splitext(fileName)[0] + '.json'\n",
    "\n",
    "with open(json_file, 'w') as fp:\n",
    "    json.dump(isis_dict, fp)\n",
    "    \n",
    "with open(json_file, 'r') as fp:\n",
    "    isis_dict = json.load(fp)\n",
    "    \n",
    "isis_dict.keys()"
   ]
  },
  {
   "cell_type": "code",
   "execution_count": null,
   "metadata": {},
   "outputs": [],
   "source": []
  }
 ],
 "metadata": {
  "kernelspec": {
   "display_name": "Python 3 (ipykernel)",
   "language": "python",
   "name": "python3"
  },
  "language_info": {
   "codemirror_mode": {
    "name": "ipython",
    "version": 3
   },
   "file_extension": ".py",
   "mimetype": "text/x-python",
   "name": "python",
   "nbconvert_exporter": "python",
   "pygments_lexer": "ipython3",
   "version": "3.10.2"
  }
 },
 "nbformat": 4,
 "nbformat_minor": 2
}
